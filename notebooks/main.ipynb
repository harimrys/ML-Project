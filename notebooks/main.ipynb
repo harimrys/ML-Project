{
 "cells": [
  {
   "cell_type": "code",
   "execution_count": 1,
   "metadata": {},
   "outputs": [],
   "source": [
    "import pandas as pd\n",
    "import numpy as np\n",
    "from sklearn.model_selection import train_test_split\n",
    "from sklearn.preprocessing import StandardScaler, MinMaxScaler\n",
    "from sklearn.linear_model import LogisticRegression\n",
    "from sklearn.tree import DecisionTreeClassifier\n",
    "from sklearn.ensemble import RandomForestClassifier\n",
    "from sklearn.svm import SVC\n",
    "from sklearn.neighbors import KNeighborsClassifier\n",
    "from sklearn.metrics import accuracy_score, classification_report\n",
    "from scipy import stats\n",
    "import matplotlib.pyplot as plt\n",
    "import seaborn as sns\n",
    "import plotly.express as px\n",
    "from functions import *\n",
    "\n",
    "import warnings\n",
    "warnings.filterwarnings('ignore')"
   ]
  },
  {
   "cell_type": "code",
   "execution_count": 2,
   "metadata": {},
   "outputs": [
    {
     "data": {
      "text/html": [
       "<div>\n",
       "<style scoped>\n",
       "    .dataframe tbody tr th:only-of-type {\n",
       "        vertical-align: middle;\n",
       "    }\n",
       "\n",
       "    .dataframe tbody tr th {\n",
       "        vertical-align: top;\n",
       "    }\n",
       "\n",
       "    .dataframe thead th {\n",
       "        text-align: right;\n",
       "    }\n",
       "</style>\n",
       "<table border=\"1\" class=\"dataframe\">\n",
       "  <thead>\n",
       "    <tr style=\"text-align: right;\">\n",
       "      <th></th>\n",
       "      <th>ID</th>\n",
       "      <th>Gender</th>\n",
       "      <th>Ever_Married</th>\n",
       "      <th>Age</th>\n",
       "      <th>Graduated</th>\n",
       "      <th>Profession</th>\n",
       "      <th>Work_Experience</th>\n",
       "      <th>Spending_Score</th>\n",
       "      <th>Family_Size</th>\n",
       "      <th>Var_1</th>\n",
       "      <th>Segmentation</th>\n",
       "    </tr>\n",
       "  </thead>\n",
       "  <tbody>\n",
       "    <tr>\n",
       "      <th>0</th>\n",
       "      <td>462809</td>\n",
       "      <td>Male</td>\n",
       "      <td>No</td>\n",
       "      <td>22</td>\n",
       "      <td>No</td>\n",
       "      <td>Healthcare</td>\n",
       "      <td>1.0</td>\n",
       "      <td>Low</td>\n",
       "      <td>4.0</td>\n",
       "      <td>Cat_4</td>\n",
       "      <td>D</td>\n",
       "    </tr>\n",
       "    <tr>\n",
       "      <th>1</th>\n",
       "      <td>462643</td>\n",
       "      <td>Female</td>\n",
       "      <td>Yes</td>\n",
       "      <td>38</td>\n",
       "      <td>Yes</td>\n",
       "      <td>Engineer</td>\n",
       "      <td>NaN</td>\n",
       "      <td>Average</td>\n",
       "      <td>3.0</td>\n",
       "      <td>Cat_4</td>\n",
       "      <td>A</td>\n",
       "    </tr>\n",
       "    <tr>\n",
       "      <th>2</th>\n",
       "      <td>466315</td>\n",
       "      <td>Female</td>\n",
       "      <td>Yes</td>\n",
       "      <td>67</td>\n",
       "      <td>Yes</td>\n",
       "      <td>Engineer</td>\n",
       "      <td>1.0</td>\n",
       "      <td>Low</td>\n",
       "      <td>1.0</td>\n",
       "      <td>Cat_6</td>\n",
       "      <td>B</td>\n",
       "    </tr>\n",
       "    <tr>\n",
       "      <th>3</th>\n",
       "      <td>461735</td>\n",
       "      <td>Male</td>\n",
       "      <td>Yes</td>\n",
       "      <td>67</td>\n",
       "      <td>Yes</td>\n",
       "      <td>Lawyer</td>\n",
       "      <td>0.0</td>\n",
       "      <td>High</td>\n",
       "      <td>2.0</td>\n",
       "      <td>Cat_6</td>\n",
       "      <td>B</td>\n",
       "    </tr>\n",
       "    <tr>\n",
       "      <th>4</th>\n",
       "      <td>462669</td>\n",
       "      <td>Female</td>\n",
       "      <td>Yes</td>\n",
       "      <td>40</td>\n",
       "      <td>Yes</td>\n",
       "      <td>Entertainment</td>\n",
       "      <td>NaN</td>\n",
       "      <td>High</td>\n",
       "      <td>6.0</td>\n",
       "      <td>Cat_6</td>\n",
       "      <td>A</td>\n",
       "    </tr>\n",
       "  </tbody>\n",
       "</table>\n",
       "</div>"
      ],
      "text/plain": [
       "       ID  Gender Ever_Married  Age Graduated     Profession  Work_Experience  \\\n",
       "0  462809    Male           No   22        No     Healthcare              1.0   \n",
       "1  462643  Female          Yes   38       Yes       Engineer              NaN   \n",
       "2  466315  Female          Yes   67       Yes       Engineer              1.0   \n",
       "3  461735    Male          Yes   67       Yes         Lawyer              0.0   \n",
       "4  462669  Female          Yes   40       Yes  Entertainment              NaN   \n",
       "\n",
       "  Spending_Score  Family_Size  Var_1 Segmentation  \n",
       "0            Low          4.0  Cat_4            D  \n",
       "1        Average          3.0  Cat_4            A  \n",
       "2            Low          1.0  Cat_6            B  \n",
       "3           High          2.0  Cat_6            B  \n",
       "4           High          6.0  Cat_6            A  "
      ]
     },
     "execution_count": 2,
     "metadata": {},
     "output_type": "execute_result"
    }
   ],
   "source": [
    "url = \"../data/Train.csv\"\n",
    "df = pd.read_csv(url)\n",
    "df.head()"
   ]
  },
  {
   "cell_type": "code",
   "execution_count": 3,
   "metadata": {},
   "outputs": [],
   "source": [
    "dropcolumns(df, 'Var_1', 'Segmentation', \"ID\")"
   ]
  },
  {
   "cell_type": "code",
   "execution_count": 4,
   "metadata": {},
   "outputs": [],
   "source": [
    "df.dropna(inplace = True)"
   ]
  },
  {
   "cell_type": "code",
   "execution_count": 5,
   "metadata": {},
   "outputs": [
    {
     "data": {
      "text/html": [
       "<div>\n",
       "<style scoped>\n",
       "    .dataframe tbody tr th:only-of-type {\n",
       "        vertical-align: middle;\n",
       "    }\n",
       "\n",
       "    .dataframe tbody tr th {\n",
       "        vertical-align: top;\n",
       "    }\n",
       "\n",
       "    .dataframe thead th {\n",
       "        text-align: right;\n",
       "    }\n",
       "</style>\n",
       "<table border=\"1\" class=\"dataframe\">\n",
       "  <thead>\n",
       "    <tr style=\"text-align: right;\">\n",
       "      <th></th>\n",
       "      <th>Gender</th>\n",
       "      <th>Ever_Married</th>\n",
       "      <th>Age</th>\n",
       "      <th>Graduated</th>\n",
       "      <th>Profession</th>\n",
       "      <th>Work_Experience</th>\n",
       "      <th>Spending_Score</th>\n",
       "      <th>Family_Size</th>\n",
       "    </tr>\n",
       "  </thead>\n",
       "  <tbody>\n",
       "    <tr>\n",
       "      <th>0</th>\n",
       "      <td>False</td>\n",
       "      <td>No</td>\n",
       "      <td>22</td>\n",
       "      <td>No</td>\n",
       "      <td>Healthcare</td>\n",
       "      <td>1.0</td>\n",
       "      <td>Low</td>\n",
       "      <td>4.0</td>\n",
       "    </tr>\n",
       "    <tr>\n",
       "      <th>2</th>\n",
       "      <td>True</td>\n",
       "      <td>Yes</td>\n",
       "      <td>67</td>\n",
       "      <td>Yes</td>\n",
       "      <td>Engineer</td>\n",
       "      <td>1.0</td>\n",
       "      <td>Low</td>\n",
       "      <td>1.0</td>\n",
       "    </tr>\n",
       "    <tr>\n",
       "      <th>3</th>\n",
       "      <td>False</td>\n",
       "      <td>Yes</td>\n",
       "      <td>67</td>\n",
       "      <td>Yes</td>\n",
       "      <td>Lawyer</td>\n",
       "      <td>0.0</td>\n",
       "      <td>High</td>\n",
       "      <td>2.0</td>\n",
       "    </tr>\n",
       "    <tr>\n",
       "      <th>5</th>\n",
       "      <td>False</td>\n",
       "      <td>Yes</td>\n",
       "      <td>56</td>\n",
       "      <td>No</td>\n",
       "      <td>Artist</td>\n",
       "      <td>0.0</td>\n",
       "      <td>Average</td>\n",
       "      <td>2.0</td>\n",
       "    </tr>\n",
       "    <tr>\n",
       "      <th>6</th>\n",
       "      <td>False</td>\n",
       "      <td>No</td>\n",
       "      <td>32</td>\n",
       "      <td>Yes</td>\n",
       "      <td>Healthcare</td>\n",
       "      <td>1.0</td>\n",
       "      <td>Low</td>\n",
       "      <td>3.0</td>\n",
       "    </tr>\n",
       "    <tr>\n",
       "      <th>...</th>\n",
       "      <td>...</td>\n",
       "      <td>...</td>\n",
       "      <td>...</td>\n",
       "      <td>...</td>\n",
       "      <td>...</td>\n",
       "      <td>...</td>\n",
       "      <td>...</td>\n",
       "      <td>...</td>\n",
       "    </tr>\n",
       "    <tr>\n",
       "      <th>8062</th>\n",
       "      <td>False</td>\n",
       "      <td>Yes</td>\n",
       "      <td>41</td>\n",
       "      <td>Yes</td>\n",
       "      <td>Artist</td>\n",
       "      <td>0.0</td>\n",
       "      <td>High</td>\n",
       "      <td>5.0</td>\n",
       "    </tr>\n",
       "    <tr>\n",
       "      <th>8064</th>\n",
       "      <td>False</td>\n",
       "      <td>No</td>\n",
       "      <td>35</td>\n",
       "      <td>No</td>\n",
       "      <td>Executive</td>\n",
       "      <td>3.0</td>\n",
       "      <td>Low</td>\n",
       "      <td>4.0</td>\n",
       "    </tr>\n",
       "    <tr>\n",
       "      <th>8065</th>\n",
       "      <td>True</td>\n",
       "      <td>No</td>\n",
       "      <td>33</td>\n",
       "      <td>Yes</td>\n",
       "      <td>Healthcare</td>\n",
       "      <td>1.0</td>\n",
       "      <td>Low</td>\n",
       "      <td>1.0</td>\n",
       "    </tr>\n",
       "    <tr>\n",
       "      <th>8066</th>\n",
       "      <td>True</td>\n",
       "      <td>No</td>\n",
       "      <td>27</td>\n",
       "      <td>Yes</td>\n",
       "      <td>Healthcare</td>\n",
       "      <td>1.0</td>\n",
       "      <td>Low</td>\n",
       "      <td>4.0</td>\n",
       "    </tr>\n",
       "    <tr>\n",
       "      <th>8067</th>\n",
       "      <td>False</td>\n",
       "      <td>Yes</td>\n",
       "      <td>37</td>\n",
       "      <td>Yes</td>\n",
       "      <td>Executive</td>\n",
       "      <td>0.0</td>\n",
       "      <td>Average</td>\n",
       "      <td>3.0</td>\n",
       "    </tr>\n",
       "  </tbody>\n",
       "</table>\n",
       "<p>6718 rows × 8 columns</p>\n",
       "</div>"
      ],
      "text/plain": [
       "      Gender Ever_Married  Age Graduated  Profession  Work_Experience  \\\n",
       "0      False           No   22        No  Healthcare              1.0   \n",
       "2       True          Yes   67       Yes    Engineer              1.0   \n",
       "3      False          Yes   67       Yes      Lawyer              0.0   \n",
       "5      False          Yes   56        No      Artist              0.0   \n",
       "6      False           No   32       Yes  Healthcare              1.0   \n",
       "...      ...          ...  ...       ...         ...              ...   \n",
       "8062   False          Yes   41       Yes      Artist              0.0   \n",
       "8064   False           No   35        No   Executive              3.0   \n",
       "8065    True           No   33       Yes  Healthcare              1.0   \n",
       "8066    True           No   27       Yes  Healthcare              1.0   \n",
       "8067   False          Yes   37       Yes   Executive              0.0   \n",
       "\n",
       "     Spending_Score  Family_Size  \n",
       "0               Low          4.0  \n",
       "2               Low          1.0  \n",
       "3              High          2.0  \n",
       "5           Average          2.0  \n",
       "6               Low          3.0  \n",
       "...             ...          ...  \n",
       "8062           High          5.0  \n",
       "8064            Low          4.0  \n",
       "8065            Low          1.0  \n",
       "8066            Low          4.0  \n",
       "8067        Average          3.0  \n",
       "\n",
       "[6718 rows x 8 columns]"
      ]
     },
     "execution_count": 5,
     "metadata": {},
     "output_type": "execute_result"
    }
   ],
   "source": [
    "mapeo_gender(df, \"Gender\")"
   ]
  },
  {
   "cell_type": "code",
   "execution_count": 6,
   "metadata": {},
   "outputs": [
    {
     "data": {
      "text/html": [
       "<div>\n",
       "<style scoped>\n",
       "    .dataframe tbody tr th:only-of-type {\n",
       "        vertical-align: middle;\n",
       "    }\n",
       "\n",
       "    .dataframe tbody tr th {\n",
       "        vertical-align: top;\n",
       "    }\n",
       "\n",
       "    .dataframe thead th {\n",
       "        text-align: right;\n",
       "    }\n",
       "</style>\n",
       "<table border=\"1\" class=\"dataframe\">\n",
       "  <thead>\n",
       "    <tr style=\"text-align: right;\">\n",
       "      <th></th>\n",
       "      <th>Gender</th>\n",
       "      <th>Ever_Married</th>\n",
       "      <th>Age</th>\n",
       "      <th>Graduated</th>\n",
       "      <th>Profession</th>\n",
       "      <th>Work_Experience</th>\n",
       "      <th>Spending_Score</th>\n",
       "      <th>Family_Size</th>\n",
       "    </tr>\n",
       "  </thead>\n",
       "  <tbody>\n",
       "    <tr>\n",
       "      <th>0</th>\n",
       "      <td>False</td>\n",
       "      <td>False</td>\n",
       "      <td>22</td>\n",
       "      <td>False</td>\n",
       "      <td>Healthcare</td>\n",
       "      <td>1.0</td>\n",
       "      <td>Low</td>\n",
       "      <td>4.0</td>\n",
       "    </tr>\n",
       "    <tr>\n",
       "      <th>2</th>\n",
       "      <td>True</td>\n",
       "      <td>True</td>\n",
       "      <td>67</td>\n",
       "      <td>True</td>\n",
       "      <td>Engineer</td>\n",
       "      <td>1.0</td>\n",
       "      <td>Low</td>\n",
       "      <td>1.0</td>\n",
       "    </tr>\n",
       "    <tr>\n",
       "      <th>3</th>\n",
       "      <td>False</td>\n",
       "      <td>True</td>\n",
       "      <td>67</td>\n",
       "      <td>True</td>\n",
       "      <td>Lawyer</td>\n",
       "      <td>0.0</td>\n",
       "      <td>High</td>\n",
       "      <td>2.0</td>\n",
       "    </tr>\n",
       "    <tr>\n",
       "      <th>5</th>\n",
       "      <td>False</td>\n",
       "      <td>True</td>\n",
       "      <td>56</td>\n",
       "      <td>False</td>\n",
       "      <td>Artist</td>\n",
       "      <td>0.0</td>\n",
       "      <td>Average</td>\n",
       "      <td>2.0</td>\n",
       "    </tr>\n",
       "    <tr>\n",
       "      <th>6</th>\n",
       "      <td>False</td>\n",
       "      <td>False</td>\n",
       "      <td>32</td>\n",
       "      <td>True</td>\n",
       "      <td>Healthcare</td>\n",
       "      <td>1.0</td>\n",
       "      <td>Low</td>\n",
       "      <td>3.0</td>\n",
       "    </tr>\n",
       "    <tr>\n",
       "      <th>...</th>\n",
       "      <td>...</td>\n",
       "      <td>...</td>\n",
       "      <td>...</td>\n",
       "      <td>...</td>\n",
       "      <td>...</td>\n",
       "      <td>...</td>\n",
       "      <td>...</td>\n",
       "      <td>...</td>\n",
       "    </tr>\n",
       "    <tr>\n",
       "      <th>8062</th>\n",
       "      <td>False</td>\n",
       "      <td>True</td>\n",
       "      <td>41</td>\n",
       "      <td>True</td>\n",
       "      <td>Artist</td>\n",
       "      <td>0.0</td>\n",
       "      <td>High</td>\n",
       "      <td>5.0</td>\n",
       "    </tr>\n",
       "    <tr>\n",
       "      <th>8064</th>\n",
       "      <td>False</td>\n",
       "      <td>False</td>\n",
       "      <td>35</td>\n",
       "      <td>False</td>\n",
       "      <td>Executive</td>\n",
       "      <td>3.0</td>\n",
       "      <td>Low</td>\n",
       "      <td>4.0</td>\n",
       "    </tr>\n",
       "    <tr>\n",
       "      <th>8065</th>\n",
       "      <td>True</td>\n",
       "      <td>False</td>\n",
       "      <td>33</td>\n",
       "      <td>True</td>\n",
       "      <td>Healthcare</td>\n",
       "      <td>1.0</td>\n",
       "      <td>Low</td>\n",
       "      <td>1.0</td>\n",
       "    </tr>\n",
       "    <tr>\n",
       "      <th>8066</th>\n",
       "      <td>True</td>\n",
       "      <td>False</td>\n",
       "      <td>27</td>\n",
       "      <td>True</td>\n",
       "      <td>Healthcare</td>\n",
       "      <td>1.0</td>\n",
       "      <td>Low</td>\n",
       "      <td>4.0</td>\n",
       "    </tr>\n",
       "    <tr>\n",
       "      <th>8067</th>\n",
       "      <td>False</td>\n",
       "      <td>True</td>\n",
       "      <td>37</td>\n",
       "      <td>True</td>\n",
       "      <td>Executive</td>\n",
       "      <td>0.0</td>\n",
       "      <td>Average</td>\n",
       "      <td>3.0</td>\n",
       "    </tr>\n",
       "  </tbody>\n",
       "</table>\n",
       "<p>6718 rows × 8 columns</p>\n",
       "</div>"
      ],
      "text/plain": [
       "      Gender  Ever_Married  Age  Graduated  Profession  Work_Experience  \\\n",
       "0      False         False   22      False  Healthcare              1.0   \n",
       "2       True          True   67       True    Engineer              1.0   \n",
       "3      False          True   67       True      Lawyer              0.0   \n",
       "5      False          True   56      False      Artist              0.0   \n",
       "6      False         False   32       True  Healthcare              1.0   \n",
       "...      ...           ...  ...        ...         ...              ...   \n",
       "8062   False          True   41       True      Artist              0.0   \n",
       "8064   False         False   35      False   Executive              3.0   \n",
       "8065    True         False   33       True  Healthcare              1.0   \n",
       "8066    True         False   27       True  Healthcare              1.0   \n",
       "8067   False          True   37       True   Executive              0.0   \n",
       "\n",
       "     Spending_Score  Family_Size  \n",
       "0               Low          4.0  \n",
       "2               Low          1.0  \n",
       "3              High          2.0  \n",
       "5           Average          2.0  \n",
       "6               Low          3.0  \n",
       "...             ...          ...  \n",
       "8062           High          5.0  \n",
       "8064            Low          4.0  \n",
       "8065            Low          1.0  \n",
       "8066            Low          4.0  \n",
       "8067        Average          3.0  \n",
       "\n",
       "[6718 rows x 8 columns]"
      ]
     },
     "execution_count": 6,
     "metadata": {},
     "output_type": "execute_result"
    }
   ],
   "source": [
    "mapeo(df, \"Ever_Married\")\n",
    "mapeo(df, \"Graduated\")"
   ]
  },
  {
   "cell_type": "code",
   "execution_count": 7,
   "metadata": {},
   "outputs": [
    {
     "data": {
      "text/html": [
       "<div>\n",
       "<style scoped>\n",
       "    .dataframe tbody tr th:only-of-type {\n",
       "        vertical-align: middle;\n",
       "    }\n",
       "\n",
       "    .dataframe tbody tr th {\n",
       "        vertical-align: top;\n",
       "    }\n",
       "\n",
       "    .dataframe thead th {\n",
       "        text-align: right;\n",
       "    }\n",
       "</style>\n",
       "<table border=\"1\" class=\"dataframe\">\n",
       "  <thead>\n",
       "    <tr style=\"text-align: right;\">\n",
       "      <th></th>\n",
       "      <th>Gender</th>\n",
       "      <th>Ever_Married</th>\n",
       "      <th>Age</th>\n",
       "      <th>Graduated</th>\n",
       "      <th>Profession</th>\n",
       "      <th>Work_Experience</th>\n",
       "      <th>Spending_Score</th>\n",
       "      <th>Family_Size</th>\n",
       "    </tr>\n",
       "  </thead>\n",
       "  <tbody>\n",
       "    <tr>\n",
       "      <th>0</th>\n",
       "      <td>False</td>\n",
       "      <td>False</td>\n",
       "      <td>22</td>\n",
       "      <td>False</td>\n",
       "      <td>Healthcare</td>\n",
       "      <td>1.0</td>\n",
       "      <td>Low</td>\n",
       "      <td>4.0</td>\n",
       "    </tr>\n",
       "    <tr>\n",
       "      <th>2</th>\n",
       "      <td>True</td>\n",
       "      <td>True</td>\n",
       "      <td>67</td>\n",
       "      <td>True</td>\n",
       "      <td>Engineer</td>\n",
       "      <td>1.0</td>\n",
       "      <td>Low</td>\n",
       "      <td>1.0</td>\n",
       "    </tr>\n",
       "    <tr>\n",
       "      <th>3</th>\n",
       "      <td>False</td>\n",
       "      <td>True</td>\n",
       "      <td>67</td>\n",
       "      <td>True</td>\n",
       "      <td>Lawyer</td>\n",
       "      <td>0.0</td>\n",
       "      <td>High</td>\n",
       "      <td>2.0</td>\n",
       "    </tr>\n",
       "  </tbody>\n",
       "</table>\n",
       "</div>"
      ],
      "text/plain": [
       "   Gender  Ever_Married  Age  Graduated  Profession  Work_Experience  \\\n",
       "0   False         False   22      False  Healthcare              1.0   \n",
       "2    True          True   67       True    Engineer              1.0   \n",
       "3   False          True   67       True      Lawyer              0.0   \n",
       "\n",
       "  Spending_Score  Family_Size  \n",
       "0            Low          4.0  \n",
       "2            Low          1.0  \n",
       "3           High          2.0  "
      ]
     },
     "execution_count": 7,
     "metadata": {},
     "output_type": "execute_result"
    }
   ],
   "source": [
    "df.head(3)"
   ]
  },
  {
   "cell_type": "code",
   "execution_count": 8,
   "metadata": {},
   "outputs": [
    {
     "data": {
      "text/html": [
       "<div>\n",
       "<style scoped>\n",
       "    .dataframe tbody tr th:only-of-type {\n",
       "        vertical-align: middle;\n",
       "    }\n",
       "\n",
       "    .dataframe tbody tr th {\n",
       "        vertical-align: top;\n",
       "    }\n",
       "\n",
       "    .dataframe thead th {\n",
       "        text-align: right;\n",
       "    }\n",
       "</style>\n",
       "<table border=\"1\" class=\"dataframe\">\n",
       "  <thead>\n",
       "    <tr style=\"text-align: right;\">\n",
       "      <th></th>\n",
       "      <th>Gender</th>\n",
       "      <th>Ever_Married</th>\n",
       "      <th>Age</th>\n",
       "      <th>Graduated</th>\n",
       "      <th>Work_Experience</th>\n",
       "      <th>Spending_Score</th>\n",
       "      <th>Family_Size</th>\n",
       "      <th>Profession_Artist</th>\n",
       "      <th>Profession_Doctor</th>\n",
       "      <th>Profession_Engineer</th>\n",
       "      <th>Profession_Entertainment</th>\n",
       "      <th>Profession_Executive</th>\n",
       "      <th>Profession_Healthcare</th>\n",
       "      <th>Profession_Homemaker</th>\n",
       "      <th>Profession_Lawyer</th>\n",
       "      <th>Profession_Marketing</th>\n",
       "    </tr>\n",
       "  </thead>\n",
       "  <tbody>\n",
       "    <tr>\n",
       "      <th>0</th>\n",
       "      <td>False</td>\n",
       "      <td>False</td>\n",
       "      <td>22</td>\n",
       "      <td>False</td>\n",
       "      <td>1.0</td>\n",
       "      <td>Low</td>\n",
       "      <td>4.0</td>\n",
       "      <td>False</td>\n",
       "      <td>False</td>\n",
       "      <td>False</td>\n",
       "      <td>False</td>\n",
       "      <td>False</td>\n",
       "      <td>True</td>\n",
       "      <td>False</td>\n",
       "      <td>False</td>\n",
       "      <td>False</td>\n",
       "    </tr>\n",
       "    <tr>\n",
       "      <th>2</th>\n",
       "      <td>True</td>\n",
       "      <td>True</td>\n",
       "      <td>67</td>\n",
       "      <td>True</td>\n",
       "      <td>1.0</td>\n",
       "      <td>Low</td>\n",
       "      <td>1.0</td>\n",
       "      <td>False</td>\n",
       "      <td>False</td>\n",
       "      <td>True</td>\n",
       "      <td>False</td>\n",
       "      <td>False</td>\n",
       "      <td>False</td>\n",
       "      <td>False</td>\n",
       "      <td>False</td>\n",
       "      <td>False</td>\n",
       "    </tr>\n",
       "    <tr>\n",
       "      <th>3</th>\n",
       "      <td>False</td>\n",
       "      <td>True</td>\n",
       "      <td>67</td>\n",
       "      <td>True</td>\n",
       "      <td>0.0</td>\n",
       "      <td>High</td>\n",
       "      <td>2.0</td>\n",
       "      <td>False</td>\n",
       "      <td>False</td>\n",
       "      <td>False</td>\n",
       "      <td>False</td>\n",
       "      <td>False</td>\n",
       "      <td>False</td>\n",
       "      <td>False</td>\n",
       "      <td>True</td>\n",
       "      <td>False</td>\n",
       "    </tr>\n",
       "  </tbody>\n",
       "</table>\n",
       "</div>"
      ],
      "text/plain": [
       "   Gender  Ever_Married  Age  Graduated  Work_Experience Spending_Score  \\\n",
       "0   False         False   22      False              1.0            Low   \n",
       "2    True          True   67       True              1.0            Low   \n",
       "3   False          True   67       True              0.0           High   \n",
       "\n",
       "   Family_Size  Profession_Artist  Profession_Doctor  Profession_Engineer  \\\n",
       "0          4.0              False              False                False   \n",
       "2          1.0              False              False                 True   \n",
       "3          2.0              False              False                False   \n",
       "\n",
       "   Profession_Entertainment  Profession_Executive  Profession_Healthcare  \\\n",
       "0                     False                 False                   True   \n",
       "2                     False                 False                  False   \n",
       "3                     False                 False                  False   \n",
       "\n",
       "   Profession_Homemaker  Profession_Lawyer  Profession_Marketing  \n",
       "0                 False              False                 False  \n",
       "2                 False              False                 False  \n",
       "3                 False               True                 False  "
      ]
     },
     "execution_count": 8,
     "metadata": {},
     "output_type": "execute_result"
    }
   ],
   "source": [
    "df_dummies = pd.get_dummies(df, columns=[\"Profession\"])\n",
    "df_dummies.head(3)"
   ]
  },
  {
   "cell_type": "code",
   "execution_count": 9,
   "metadata": {},
   "outputs": [
    {
     "data": {
      "image/png": "[encoded data removed]",
      "text/plain": [
       "<Figure size 800x500 with 1 Axes>"
      ]
     },
     "metadata": {},
     "output_type": "display_data"
    }
   ],
   "source": [
    "# Gráfico de barras para ver la distribución de nuestra variable\n",
    "bar_plot(df_dummies, 'Spending_Score')"
   ]
  },
  {
   "cell_type": "code",
   "execution_count": 10,
   "metadata": {},
   "outputs": [],
   "source": [
    "features = df_dummies.drop('Spending_Score', axis=1)\n",
    "target = df_dummies['Spending_Score']\n",
    "features.to_csv('../data/features.csv', index=False)\n",
    "target.to_csv('../data/target.csv', index=False)"
   ]
  },
  {
   "cell_type": "code",
   "execution_count": 11,
   "metadata": {},
   "outputs": [
    {
     "data": {
      "application/vnd.plotly.v1+json": {
       "config": {
        "plotlyServerURL": "https://plot.ly"
       },
       "data": [
        {
         "coloraxis": "coloraxis",
         "hovertemplate": "x: %{x}<br>y: %{y}<br>color: %{z}<extra></extra>",
         "name": "0",
         "type": "heatmap",
         "x": [
          "Gender",
          "Ever_Married",
          "Age",
          "Graduated",
          "Work_Experience",
          "Family_Size",
          "Profession_Artist",
          "Profession_Doctor",
          "Profession_Engineer",
          "Profession_Entertainment",
          "Profession_Executive",
          "Profession_Healthcare",
          "Profession_Homemaker",
          "Profession_Lawyer",
          "Profession_Marketing"
         ],
         "xaxis": "x",
         "y": [
          "Gender",
          "Ever_Married",
          "Age",
          "Graduated",
          "Work_Experience",
          "Family_Size",
          "Profession_Artist",
          "Profession_Doctor",
          "Profession_Engineer",
          "Profession_Entertainment",
          "Profession_Executive",
          "Profession_Healthcare",
          "Profession_Homemaker",
          "Profession_Lawyer",
          "Profession_Marketing"
         ],
         "yaxis": "y",
         "z": [
          [
           1,
           0.1148018335427239,
           0.02251402671882995,
           0.04693367728216805,
           0.05326952530061672,
           0.05712975827902958,
           0.04865033646456723,
           0.009141675285448904,
           0.21946096660055492,
           0.1383080702227264,
           0.23355104537163932,
           0.030775505415477782,
           0.12501233864703115,
           0.034319728831741045,
           0.03826655848856068
          ],
          [
           0.1148018335427239,
           1,
           0.5676350712467855,
           0.20322959078120773,
           0.09250322490716245,
           0.0835102266754321,
           0.17837378033776427,
           0.08370095110108303,
           0.015312697520266963,
           0.016482258393144395,
           0.20351124233195603,
           0.4234822597565709,
           0.013805786719079423,
           0.20065293317718805,
           0.09908235718877981
          ],
          [
           0.02251402671882995,
           0.5676350712467855,
           1,
           0.24721430956461715,
           0.1887327723636139,
           0.28238914987596064,
           0.12099793239830017,
           0.11877142838163914,
           0.0354700485335506,
           0.01571845433812758,
           0.1329003873732334,
           0.4421057541273318,
           0.055756193047697314,
           0.5416872426374617,
           0.07563487942158229
          ],
          [
           0.04693367728216805,
           0.20322959078120773,
           0.24721430956461715,
           1,
           0.034853105691152776,
           0.23512106256105886,
           0.3675816964238143,
           0.03407722517612314,
           0.1131613526822443,
           0.0018858448829583466,
           0.06682137680938723,
           0.2523472153640844,
           0.023800494123307044,
           0.006693139449876969,
           0.09705189543305075
          ],
          [
           0.05326952530061672,
           0.09250322490716245,
           0.1887327723636139,
           0.034853105691152776,
           1,
           0.06951515968143454,
           0.017385741326710953,
           0.0033902488465057416,
           0.0012359196590477858,
           0.015914253771296277,
           0.025361750328003717,
           0.006725790206102955,
           0.18456190062006808,
           0.11774111430657966,
           0.008294082933389854
          ],
          [
           0.05712975827902958,
           0.0835102266754321,
           0.28238914987596064,
           0.23512106256105886,
           0.06951515968143454,
           1,
           0.15912920546813958,
           0.0037827863372253373,
           0.025532828264442465,
           0.019168406324831584,
           0.10323229786109007,
           0.2533134233309406,
           0.06013847510607045,
           0.16427119002029744,
           0.027167704727227723
          ],
          [
           0.04865033646456723,
           0.17837378033776427,
           0.12099793239830017,
           0.3675816964238143,
           0.017385741326710953,
           0.15912920546813958,
           1,
           0.21813543674597996,
           0.21652015393049062,
           0.26025135839677965,
           0.20053891158465154,
           0.3080696447713703,
           0.11555047078234548,
           0.1992571977319326,
           0.13276193162178138
          ],
          [
           0.009141675285448904,
           0.08370095110108303,
           0.11877142838163914,
           0.03407722517612314,
           0.0033902488465057416,
           0.0037827863372253373,
           0.21813543674597996,
           1,
           0.09627718117010281,
           0.11572256312997084,
           0.08917101143614156,
           0.13698529427512002,
           0.051380314524318745,
           0.08860108852334833,
           0.05903350940414738
          ],
          [
           0.21946096660055492,
           0.015312697520266963,
           0.0354700485335506,
           0.1131613526822443,
           0.0012359196590477858,
           0.025532828264442465,
           0.21652015393049062,
           0.09627718117010281,
           1,
           0.11486564290473544,
           0.08851070422259863,
           0.13597092450962905,
           0.05099984567274852,
           0.08794500156260367,
           0.05859636899862242
          ],
          [
           0.1383080702227264,
           0.016482258393144395,
           0.01571845433812758,
           0.0018858448829583466,
           0.015914253771296277,
           0.019168406324831584,
           0.26025135839677965,
           0.11572256312997084,
           0.11486564290473544,
           1,
           0.10638746827226961,
           0.1634333671195202,
           0.06130043265450405,
           0.10570750900270547,
           0.07043124786391033
          ],
          [
           0.23355104537163932,
           0.20351124233195603,
           0.1329003873732334,
           0.06682137680938723,
           0.025361750328003717,
           0.10323229786109007,
           0.20053891158465154,
           0.08917101143614156,
           0.08851070422259863,
           0.10638746827226961,
           1,
           0.1259349797851771,
           0.04723557302421603,
           0.0814538257641217,
           0.054271400830284
          ],
          [
           0.030775505415477782,
           0.4234822597565709,
           0.4421057541273318,
           0.2523472153640844,
           0.006725790206102955,
           0.2533134233309406,
           0.3080696447713703,
           0.13698529427512002,
           0.13597092450962905,
           0.1634333671195202,
           0.1259349797851771,
           1,
           0.07256370390740727,
           0.12513008557857672,
           0.08337220464055677
          ],
          [
           0.12501233864703115,
           0.013805786719079423,
           0.055756193047697314,
           0.023800494123307044,
           0.18456190062006808,
           0.06013847510607045,
           0.11555047078234548,
           0.051380314524318745,
           0.05099984567274852,
           0.06130043265450405,
           0.04723557302421603,
           0.07256370390740727,
           1,
           0.046933674067011995,
           0.03127116760733729
          ],
          [
           0.034319728831741045,
           0.20065293317718805,
           0.5416872426374617,
           0.006693139449876969,
           0.11774111430657966,
           0.16427119002029744,
           0.1992571977319326,
           0.08860108852334833,
           0.08794500156260367,
           0.10570750900270547,
           0.0814538257641217,
           0.12513008557857672,
           0.046933674067011995,
           1,
           0.05392453345326961
          ],
          [
           0.03826655848856068,
           0.09908235718877981,
           0.07563487942158229,
           0.09705189543305075,
           0.008294082933389854,
           0.027167704727227723,
           0.13276193162178138,
           0.05903350940414738,
           0.05859636899862242,
           0.07043124786391033,
           0.054271400830284,
           0.08337220464055677,
           0.03127116760733729,
           0.05392453345326961,
           1
          ]
         ]
        }
       ],
       "layout": {
        "annotations": [
         {
          "font": {
           "size": 8
          },
          "showarrow": false,
          "text": "1.00",
          "x": "Gender",
          "y": "Gender"
         },
         {
          "font": {
           "size": 8
          },
          "showarrow": false,
          "text": "0.11",
          "x": "Ever_Married",
          "y": "Gender"
         },
         {
          "font": {
           "size": 8
          },
          "showarrow": false,
          "text": "0.02",
          "x": "Age",
          "y": "Gender"
         },
         {
          "font": {
           "size": 8
          },
          "showarrow": false,
          "text": "0.05",
          "x": "Graduated",
          "y": "Gender"
         },
         {
          "font": {
           "size": 8
          },
          "showarrow": false,
          "text": "0.05",
          "x": "Work_Experience",
          "y": "Gender"
         },
         {
          "font": {
           "size": 8
          },
          "showarrow": false,
          "text": "0.06",
          "x": "Family_Size",
          "y": "Gender"
         },
         {
          "font": {
           "size": 8
          },
          "showarrow": false,
          "text": "0.05",
          "x": "Profession_Artist",
          "y": "Gender"
         },
         {
          "font": {
           "size": 8
          },
          "showarrow": false,
          "text": "0.01",
          "x": "Profession_Doctor",
          "y": "Gender"
         },
         {
          "font": {
           "size": 8
          },
          "showarrow": false,
          "text": "0.22",
          "x": "Profession_Engineer",
          "y": "Gender"
         },
         {
          "font": {
           "size": 8
          },
          "showarrow": false,
          "text": "0.14",
          "x": "Profession_Entertainment",
          "y": "Gender"
         },
         {
          "font": {
           "size": 8
          },
          "showarrow": false,
          "text": "0.23",
          "x": "Profession_Executive",
          "y": "Gender"
         },
         {
          "font": {
           "size": 8
          },
          "showarrow": false,
          "text": "0.03",
          "x": "Profession_Healthcare",
          "y": "Gender"
         },
         {
          "font": {
           "size": 8
          },
          "showarrow": false,
          "text": "0.13",
          "x": "Profession_Homemaker",
          "y": "Gender"
         },
         {
          "font": {
           "size": 8
          },
          "showarrow": false,
          "text": "0.03",
          "x": "Profession_Lawyer",
          "y": "Gender"
         },
         {
          "font": {
           "size": 8
          },
          "showarrow": false,
          "text": "0.04",
          "x": "Profession_Marketing",
          "y": "Gender"
         },
         {
          "font": {
           "size": 8
          },
          "showarrow": false,
          "text": "0.11",
          "x": "Gender",
          "y": "Ever_Married"
         },
         {
          "font": {
           "size": 8
          },
          "showarrow": false,
          "text": "1.00",
          "x": "Ever_Married",
          "y": "Ever_Married"
         },
         {
          "font": {
           "size": 8
          },
          "showarrow": false,
          "text": "0.57",
          "x": "Age",
          "y": "Ever_Married"
         },
         {
          "font": {
           "size": 8
          },
          "showarrow": false,
          "text": "0.20",
          "x": "Graduated",
          "y": "Ever_Married"
         },
         {
          "font": {
           "size": 8
          },
          "showarrow": false,
          "text": "0.09",
          "x": "Work_Experience",
          "y": "Ever_Married"
         },
         {
          "font": {
           "size": 8
          },
          "showarrow": false,
          "text": "0.08",
          "x": "Family_Size",
          "y": "Ever_Married"
         },
         {
          "font": {
           "size": 8
          },
          "showarrow": false,
          "text": "0.18",
          "x": "Profession_Artist",
          "y": "Ever_Married"
         },
         {
          "font": {
           "size": 8
          },
          "showarrow": false,
          "text": "0.08",
          "x": "Profession_Doctor",
          "y": "Ever_Married"
         },
         {
          "font": {
           "size": 8
          },
          "showarrow": false,
          "text": "0.02",
          "x": "Profession_Engineer",
          "y": "Ever_Married"
         },
         {
          "font": {
           "size": 8
          },
          "showarrow": false,
          "text": "0.02",
          "x": "Profession_Entertainment",
          "y": "Ever_Married"
         },
         {
          "font": {
           "size": 8
          },
          "showarrow": false,
          "text": "0.20",
          "x": "Profession_Executive",
          "y": "Ever_Married"
         },
         {
          "font": {
           "size": 8
          },
          "showarrow": false,
          "text": "0.42",
          "x": "Profession_Healthcare",
          "y": "Ever_Married"
         },
         {
          "font": {
           "size": 8
          },
          "showarrow": false,
          "text": "0.01",
          "x": "Profession_Homemaker",
          "y": "Ever_Married"
         },
         {
          "font": {
           "size": 8
          },
          "showarrow": false,
          "text": "0.20",
          "x": "Profession_Lawyer",
          "y": "Ever_Married"
         },
         {
          "font": {
           "size": 8
          },
          "showarrow": false,
          "text": "0.10",
          "x": "Profession_Marketing",
          "y": "Ever_Married"
         },
         {
          "font": {
           "size": 8
          },
          "showarrow": false,
          "text": "0.02",
          "x": "Gender",
          "y": "Age"
         },
         {
          "font": {
           "size": 8
          },
          "showarrow": false,
          "text": "0.57",
          "x": "Ever_Married",
          "y": "Age"
         },
         {
          "font": {
           "size": 8
          },
          "showarrow": false,
          "text": "1.00",
          "x": "Age",
          "y": "Age"
         },
         {
          "font": {
           "size": 8
          },
          "showarrow": false,
          "text": "0.25",
          "x": "Graduated",
          "y": "Age"
         },
         {
          "font": {
           "size": 8
          },
          "showarrow": false,
          "text": "0.19",
          "x": "Work_Experience",
          "y": "Age"
         },
         {
          "font": {
           "size": 8
          },
          "showarrow": false,
          "text": "0.28",
          "x": "Family_Size",
          "y": "Age"
         },
         {
          "font": {
           "size": 8
          },
          "showarrow": false,
          "text": "0.12",
          "x": "Profession_Artist",
          "y": "Age"
         },
         {
          "font": {
           "size": 8
          },
          "showarrow": false,
          "text": "0.12",
          "x": "Profession_Doctor",
          "y": "Age"
         },
         {
          "font": {
           "size": 8
          },
          "showarrow": false,
          "text": "0.04",
          "x": "Profession_Engineer",
          "y": "Age"
         },
         {
          "font": {
           "size": 8
          },
          "showarrow": false,
          "text": "0.02",
          "x": "Profession_Entertainment",
          "y": "Age"
         },
         {
          "font": {
           "size": 8
          },
          "showarrow": false,
          "text": "0.13",
          "x": "Profession_Executive",
          "y": "Age"
         },
         {
          "font": {
           "size": 8
          },
          "showarrow": false,
          "text": "0.44",
          "x": "Profession_Healthcare",
          "y": "Age"
         },
         {
          "font": {
           "size": 8
          },
          "showarrow": false,
          "text": "0.06",
          "x": "Profession_Homemaker",
          "y": "Age"
         },
         {
          "font": {
           "size": 8
          },
          "showarrow": false,
          "text": "0.54",
          "x": "Profession_Lawyer",
          "y": "Age"
         },
         {
          "font": {
           "size": 8
          },
          "showarrow": false,
          "text": "0.08",
          "x": "Profession_Marketing",
          "y": "Age"
         },
         {
          "font": {
           "size": 8
          },
          "showarrow": false,
          "text": "0.05",
          "x": "Gender",
          "y": "Graduated"
         },
         {
          "font": {
           "size": 8
          },
          "showarrow": false,
          "text": "0.20",
          "x": "Ever_Married",
          "y": "Graduated"
         },
         {
          "font": {
           "size": 8
          },
          "showarrow": false,
          "text": "0.25",
          "x": "Age",
          "y": "Graduated"
         },
         {
          "font": {
           "size": 8
          },
          "showarrow": false,
          "text": "1.00",
          "x": "Graduated",
          "y": "Graduated"
         },
         {
          "font": {
           "size": 8
          },
          "showarrow": false,
          "text": "0.03",
          "x": "Work_Experience",
          "y": "Graduated"
         },
         {
          "font": {
           "size": 8
          },
          "showarrow": false,
          "text": "0.24",
          "x": "Family_Size",
          "y": "Graduated"
         },
         {
          "font": {
           "size": 8
          },
          "showarrow": false,
          "text": "0.37",
          "x": "Profession_Artist",
          "y": "Graduated"
         },
         {
          "font": {
           "size": 8
          },
          "showarrow": false,
          "text": "0.03",
          "x": "Profession_Doctor",
          "y": "Graduated"
         },
         {
          "font": {
           "size": 8
          },
          "showarrow": false,
          "text": "0.11",
          "x": "Profession_Engineer",
          "y": "Graduated"
         },
         {
          "font": {
           "size": 8
          },
          "showarrow": false,
          "text": "0.00",
          "x": "Profession_Entertainment",
          "y": "Graduated"
         },
         {
          "font": {
           "size": 8
          },
          "showarrow": false,
          "text": "0.07",
          "x": "Profession_Executive",
          "y": "Graduated"
         },
         {
          "font": {
           "size": 8
          },
          "showarrow": false,
          "text": "0.25",
          "x": "Profession_Healthcare",
          "y": "Graduated"
         },
         {
          "font": {
           "size": 8
          },
          "showarrow": false,
          "text": "0.02",
          "x": "Profession_Homemaker",
          "y": "Graduated"
         },
         {
          "font": {
           "size": 8
          },
          "showarrow": false,
          "text": "0.01",
          "x": "Profession_Lawyer",
          "y": "Graduated"
         },
         {
          "font": {
           "size": 8
          },
          "showarrow": false,
          "text": "0.10",
          "x": "Profession_Marketing",
          "y": "Graduated"
         },
         {
          "font": {
           "size": 8
          },
          "showarrow": false,
          "text": "0.05",
          "x": "Gender",
          "y": "Work_Experience"
         },
         {
          "font": {
           "size": 8
          },
          "showarrow": false,
          "text": "0.09",
          "x": "Ever_Married",
          "y": "Work_Experience"
         },
         {
          "font": {
           "size": 8
          },
          "showarrow": false,
          "text": "0.19",
          "x": "Age",
          "y": "Work_Experience"
         },
         {
          "font": {
           "size": 8
          },
          "showarrow": false,
          "text": "0.03",
          "x": "Graduated",
          "y": "Work_Experience"
         },
         {
          "font": {
           "size": 8
          },
          "showarrow": false,
          "text": "1.00",
          "x": "Work_Experience",
          "y": "Work_Experience"
         },
         {
          "font": {
           "size": 8
          },
          "showarrow": false,
          "text": "0.07",
          "x": "Family_Size",
          "y": "Work_Experience"
         },
         {
          "font": {
           "size": 8
          },
          "showarrow": false,
          "text": "0.02",
          "x": "Profession_Artist",
          "y": "Work_Experience"
         },
         {
          "font": {
           "size": 8
          },
          "showarrow": false,
          "text": "0.00",
          "x": "Profession_Doctor",
          "y": "Work_Experience"
         },
         {
          "font": {
           "size": 8
          },
          "showarrow": false,
          "text": "0.00",
          "x": "Profession_Engineer",
          "y": "Work_Experience"
         },
         {
          "font": {
           "size": 8
          },
          "showarrow": false,
          "text": "0.02",
          "x": "Profession_Entertainment",
          "y": "Work_Experience"
         },
         {
          "font": {
           "size": 8
          },
          "showarrow": false,
          "text": "0.03",
          "x": "Profession_Executive",
          "y": "Work_Experience"
         },
         {
          "font": {
           "size": 8
          },
          "showarrow": false,
          "text": "0.01",
          "x": "Profession_Healthcare",
          "y": "Work_Experience"
         },
         {
          "font": {
           "size": 8
          },
          "showarrow": false,
          "text": "0.18",
          "x": "Profession_Homemaker",
          "y": "Work_Experience"
         },
         {
          "font": {
           "size": 8
          },
          "showarrow": false,
          "text": "0.12",
          "x": "Profession_Lawyer",
          "y": "Work_Experience"
         },
         {
          "font": {
           "size": 8
          },
          "showarrow": false,
          "text": "0.01",
          "x": "Profession_Marketing",
          "y": "Work_Experience"
         },
         {
          "font": {
           "size": 8
          },
          "showarrow": false,
          "text": "0.06",
          "x": "Gender",
          "y": "Family_Size"
         },
         {
          "font": {
           "size": 8
          },
          "showarrow": false,
          "text": "0.08",
          "x": "Ever_Married",
          "y": "Family_Size"
         },
         {
          "font": {
           "size": 8
          },
          "showarrow": false,
          "text": "0.28",
          "x": "Age",
          "y": "Family_Size"
         },
         {
          "font": {
           "size": 8
          },
          "showarrow": false,
          "text": "0.24",
          "x": "Graduated",
          "y": "Family_Size"
         },
         {
          "font": {
           "size": 8
          },
          "showarrow": false,
          "text": "0.07",
          "x": "Work_Experience",
          "y": "Family_Size"
         },
         {
          "font": {
           "size": 8
          },
          "showarrow": false,
          "text": "1.00",
          "x": "Family_Size",
          "y": "Family_Size"
         },
         {
          "font": {
           "size": 8
          },
          "showarrow": false,
          "text": "0.16",
          "x": "Profession_Artist",
          "y": "Family_Size"
         },
         {
          "font": {
           "size": 8
          },
          "showarrow": false,
          "text": "0.00",
          "x": "Profession_Doctor",
          "y": "Family_Size"
         },
         {
          "font": {
           "size": 8
          },
          "showarrow": false,
          "text": "0.03",
          "x": "Profession_Engineer",
          "y": "Family_Size"
         },
         {
          "font": {
           "size": 8
          },
          "showarrow": false,
          "text": "0.02",
          "x": "Profession_Entertainment",
          "y": "Family_Size"
         },
         {
          "font": {
           "size": 8
          },
          "showarrow": false,
          "text": "0.10",
          "x": "Profession_Executive",
          "y": "Family_Size"
         },
         {
          "font": {
           "size": 8
          },
          "showarrow": false,
          "text": "0.25",
          "x": "Profession_Healthcare",
          "y": "Family_Size"
         },
         {
          "font": {
           "size": 8
          },
          "showarrow": false,
          "text": "0.06",
          "x": "Profession_Homemaker",
          "y": "Family_Size"
         },
         {
          "font": {
           "size": 8
          },
          "showarrow": false,
          "text": "0.16",
          "x": "Profession_Lawyer",
          "y": "Family_Size"
         },
         {
          "font": {
           "size": 8
          },
          "showarrow": false,
          "text": "0.03",
          "x": "Profession_Marketing",
          "y": "Family_Size"
         },
         {
          "font": {
           "size": 8
          },
          "showarrow": false,
          "text": "0.05",
          "x": "Gender",
          "y": "Profession_Artist"
         },
         {
          "font": {
           "size": 8
          },
          "showarrow": false,
          "text": "0.18",
          "x": "Ever_Married",
          "y": "Profession_Artist"
         },
         {
          "font": {
           "size": 8
          },
          "showarrow": false,
          "text": "0.12",
          "x": "Age",
          "y": "Profession_Artist"
         },
         {
          "font": {
           "size": 8
          },
          "showarrow": false,
          "text": "0.37",
          "x": "Graduated",
          "y": "Profession_Artist"
         },
         {
          "font": {
           "size": 8
          },
          "showarrow": false,
          "text": "0.02",
          "x": "Work_Experience",
          "y": "Profession_Artist"
         },
         {
          "font": {
           "size": 8
          },
          "showarrow": false,
          "text": "0.16",
          "x": "Family_Size",
          "y": "Profession_Artist"
         },
         {
          "font": {
           "size": 8
          },
          "showarrow": false,
          "text": "1.00",
          "x": "Profession_Artist",
          "y": "Profession_Artist"
         },
         {
          "font": {
           "size": 8
          },
          "showarrow": false,
          "text": "0.22",
          "x": "Profession_Doctor",
          "y": "Profession_Artist"
         },
         {
          "font": {
           "size": 8
          },
          "showarrow": false,
          "text": "0.22",
          "x": "Profession_Engineer",
          "y": "Profession_Artist"
         },
         {
          "font": {
           "size": 8
          },
          "showarrow": false,
          "text": "0.26",
          "x": "Profession_Entertainment",
          "y": "Profession_Artist"
         },
         {
          "font": {
           "size": 8
          },
          "showarrow": false,
          "text": "0.20",
          "x": "Profession_Executive",
          "y": "Profession_Artist"
         },
         {
          "font": {
           "size": 8
          },
          "showarrow": false,
          "text": "0.31",
          "x": "Profession_Healthcare",
          "y": "Profession_Artist"
         },
         {
          "font": {
           "size": 8
          },
          "showarrow": false,
          "text": "0.12",
          "x": "Profession_Homemaker",
          "y": "Profession_Artist"
         },
         {
          "font": {
           "size": 8
          },
          "showarrow": false,
          "text": "0.20",
          "x": "Profession_Lawyer",
          "y": "Profession_Artist"
         },
         {
          "font": {
           "size": 8
          },
          "showarrow": false,
          "text": "0.13",
          "x": "Profession_Marketing",
          "y": "Profession_Artist"
         },
         {
          "font": {
           "size": 8
          },
          "showarrow": false,
          "text": "0.01",
          "x": "Gender",
          "y": "Profession_Doctor"
         },
         {
          "font": {
           "size": 8
          },
          "showarrow": false,
          "text": "0.08",
          "x": "Ever_Married",
          "y": "Profession_Doctor"
         },
         {
          "font": {
           "size": 8
          },
          "showarrow": false,
          "text": "0.12",
          "x": "Age",
          "y": "Profession_Doctor"
         },
         {
          "font": {
           "size": 8
          },
          "showarrow": false,
          "text": "0.03",
          "x": "Graduated",
          "y": "Profession_Doctor"
         },
         {
          "font": {
           "size": 8
          },
          "showarrow": false,
          "text": "0.00",
          "x": "Work_Experience",
          "y": "Profession_Doctor"
         },
         {
          "font": {
           "size": 8
          },
          "showarrow": false,
          "text": "0.00",
          "x": "Family_Size",
          "y": "Profession_Doctor"
         },
         {
          "font": {
           "size": 8
          },
          "showarrow": false,
          "text": "0.22",
          "x": "Profession_Artist",
          "y": "Profession_Doctor"
         },
         {
          "font": {
           "size": 8
          },
          "showarrow": false,
          "text": "1.00",
          "x": "Profession_Doctor",
          "y": "Profession_Doctor"
         },
         {
          "font": {
           "size": 8
          },
          "showarrow": false,
          "text": "0.10",
          "x": "Profession_Engineer",
          "y": "Profession_Doctor"
         },
         {
          "font": {
           "size": 8
          },
          "showarrow": false,
          "text": "0.12",
          "x": "Profession_Entertainment",
          "y": "Profession_Doctor"
         },
         {
          "font": {
           "size": 8
          },
          "showarrow": false,
          "text": "0.09",
          "x": "Profession_Executive",
          "y": "Profession_Doctor"
         },
         {
          "font": {
           "size": 8
          },
          "showarrow": false,
          "text": "0.14",
          "x": "Profession_Healthcare",
          "y": "Profession_Doctor"
         },
         {
          "font": {
           "size": 8
          },
          "showarrow": false,
          "text": "0.05",
          "x": "Profession_Homemaker",
          "y": "Profession_Doctor"
         },
         {
          "font": {
           "size": 8
          },
          "showarrow": false,
          "text": "0.09",
          "x": "Profession_Lawyer",
          "y": "Profession_Doctor"
         },
         {
          "font": {
           "size": 8
          },
          "showarrow": false,
          "text": "0.06",
          "x": "Profession_Marketing",
          "y": "Profession_Doctor"
         },
         {
          "font": {
           "size": 8
          },
          "showarrow": false,
          "text": "0.22",
          "x": "Gender",
          "y": "Profession_Engineer"
         },
         {
          "font": {
           "size": 8
          },
          "showarrow": false,
          "text": "0.02",
          "x": "Ever_Married",
          "y": "Profession_Engineer"
         },
         {
          "font": {
           "size": 8
          },
          "showarrow": false,
          "text": "0.04",
          "x": "Age",
          "y": "Profession_Engineer"
         },
         {
          "font": {
           "size": 8
          },
          "showarrow": false,
          "text": "0.11",
          "x": "Graduated",
          "y": "Profession_Engineer"
         },
         {
          "font": {
           "size": 8
          },
          "showarrow": false,
          "text": "0.00",
          "x": "Work_Experience",
          "y": "Profession_Engineer"
         },
         {
          "font": {
           "size": 8
          },
          "showarrow": false,
          "text": "0.03",
          "x": "Family_Size",
          "y": "Profession_Engineer"
         },
         {
          "font": {
           "size": 8
          },
          "showarrow": false,
          "text": "0.22",
          "x": "Profession_Artist",
          "y": "Profession_Engineer"
         },
         {
          "font": {
           "size": 8
          },
          "showarrow": false,
          "text": "0.10",
          "x": "Profession_Doctor",
          "y": "Profession_Engineer"
         },
         {
          "font": {
           "size": 8
          },
          "showarrow": false,
          "text": "1.00",
          "x": "Profession_Engineer",
          "y": "Profession_Engineer"
         },
         {
          "font": {
           "size": 8
          },
          "showarrow": false,
          "text": "0.11",
          "x": "Profession_Entertainment",
          "y": "Profession_Engineer"
         },
         {
          "font": {
           "size": 8
          },
          "showarrow": false,
          "text": "0.09",
          "x": "Profession_Executive",
          "y": "Profession_Engineer"
         },
         {
          "font": {
           "size": 8
          },
          "showarrow": false,
          "text": "0.14",
          "x": "Profession_Healthcare",
          "y": "Profession_Engineer"
         },
         {
          "font": {
           "size": 8
          },
          "showarrow": false,
          "text": "0.05",
          "x": "Profession_Homemaker",
          "y": "Profession_Engineer"
         },
         {
          "font": {
           "size": 8
          },
          "showarrow": false,
          "text": "0.09",
          "x": "Profession_Lawyer",
          "y": "Profession_Engineer"
         },
         {
          "font": {
           "size": 8
          },
          "showarrow": false,
          "text": "0.06",
          "x": "Profession_Marketing",
          "y": "Profession_Engineer"
         },
         {
          "font": {
           "size": 8
          },
          "showarrow": false,
          "text": "0.14",
          "x": "Gender",
          "y": "Profession_Entertainment"
         },
         {
          "font": {
           "size": 8
          },
          "showarrow": false,
          "text": "0.02",
          "x": "Ever_Married",
          "y": "Profession_Entertainment"
         },
         {
          "font": {
           "size": 8
          },
          "showarrow": false,
          "text": "0.02",
          "x": "Age",
          "y": "Profession_Entertainment"
         },
         {
          "font": {
           "size": 8
          },
          "showarrow": false,
          "text": "0.00",
          "x": "Graduated",
          "y": "Profession_Entertainment"
         },
         {
          "font": {
           "size": 8
          },
          "showarrow": false,
          "text": "0.02",
          "x": "Work_Experience",
          "y": "Profession_Entertainment"
         },
         {
          "font": {
           "size": 8
          },
          "showarrow": false,
          "text": "0.02",
          "x": "Family_Size",
          "y": "Profession_Entertainment"
         },
         {
          "font": {
           "size": 8
          },
          "showarrow": false,
          "text": "0.26",
          "x": "Profession_Artist",
          "y": "Profession_Entertainment"
         },
         {
          "font": {
           "size": 8
          },
          "showarrow": false,
          "text": "0.12",
          "x": "Profession_Doctor",
          "y": "Profession_Entertainment"
         },
         {
          "font": {
           "size": 8
          },
          "showarrow": false,
          "text": "0.11",
          "x": "Profession_Engineer",
          "y": "Profession_Entertainment"
         },
         {
          "font": {
           "size": 8
          },
          "showarrow": false,
          "text": "1.00",
          "x": "Profession_Entertainment",
          "y": "Profession_Entertainment"
         },
         {
          "font": {
           "size": 8
          },
          "showarrow": false,
          "text": "0.11",
          "x": "Profession_Executive",
          "y": "Profession_Entertainment"
         },
         {
          "font": {
           "size": 8
          },
          "showarrow": false,
          "text": "0.16",
          "x": "Profession_Healthcare",
          "y": "Profession_Entertainment"
         },
         {
          "font": {
           "size": 8
          },
          "showarrow": false,
          "text": "0.06",
          "x": "Profession_Homemaker",
          "y": "Profession_Entertainment"
         },
         {
          "font": {
           "size": 8
          },
          "showarrow": false,
          "text": "0.11",
          "x": "Profession_Lawyer",
          "y": "Profession_Entertainment"
         },
         {
          "font": {
           "size": 8
          },
          "showarrow": false,
          "text": "0.07",
          "x": "Profession_Marketing",
          "y": "Profession_Entertainment"
         },
         {
          "font": {
           "size": 8
          },
          "showarrow": false,
          "text": "0.23",
          "x": "Gender",
          "y": "Profession_Executive"
         },
         {
          "font": {
           "size": 8
          },
          "showarrow": false,
          "text": "0.20",
          "x": "Ever_Married",
          "y": "Profession_Executive"
         },
         {
          "font": {
           "size": 8
          },
          "showarrow": false,
          "text": "0.13",
          "x": "Age",
          "y": "Profession_Executive"
         },
         {
          "font": {
           "size": 8
          },
          "showarrow": false,
          "text": "0.07",
          "x": "Graduated",
          "y": "Profession_Executive"
         },
         {
          "font": {
           "size": 8
          },
          "showarrow": false,
          "text": "0.03",
          "x": "Work_Experience",
          "y": "Profession_Executive"
         },
         {
          "font": {
           "size": 8
          },
          "showarrow": false,
          "text": "0.10",
          "x": "Family_Size",
          "y": "Profession_Executive"
         },
         {
          "font": {
           "size": 8
          },
          "showarrow": false,
          "text": "0.20",
          "x": "Profession_Artist",
          "y": "Profession_Executive"
         },
         {
          "font": {
           "size": 8
          },
          "showarrow": false,
          "text": "0.09",
          "x": "Profession_Doctor",
          "y": "Profession_Executive"
         },
         {
          "font": {
           "size": 8
          },
          "showarrow": false,
          "text": "0.09",
          "x": "Profession_Engineer",
          "y": "Profession_Executive"
         },
         {
          "font": {
           "size": 8
          },
          "showarrow": false,
          "text": "0.11",
          "x": "Profession_Entertainment",
          "y": "Profession_Executive"
         },
         {
          "font": {
           "size": 8
          },
          "showarrow": false,
          "text": "1.00",
          "x": "Profession_Executive",
          "y": "Profession_Executive"
         },
         {
          "font": {
           "size": 8
          },
          "showarrow": false,
          "text": "0.13",
          "x": "Profession_Healthcare",
          "y": "Profession_Executive"
         },
         {
          "font": {
           "size": 8
          },
          "showarrow": false,
          "text": "0.05",
          "x": "Profession_Homemaker",
          "y": "Profession_Executive"
         },
         {
          "font": {
           "size": 8
          },
          "showarrow": false,
          "text": "0.08",
          "x": "Profession_Lawyer",
          "y": "Profession_Executive"
         },
         {
          "font": {
           "size": 8
          },
          "showarrow": false,
          "text": "0.05",
          "x": "Profession_Marketing",
          "y": "Profession_Executive"
         },
         {
          "font": {
           "size": 8
          },
          "showarrow": false,
          "text": "0.03",
          "x": "Gender",
          "y": "Profession_Healthcare"
         },
         {
          "font": {
           "size": 8
          },
          "showarrow": false,
          "text": "0.42",
          "x": "Ever_Married",
          "y": "Profession_Healthcare"
         },
         {
          "font": {
           "size": 8
          },
          "showarrow": false,
          "text": "0.44",
          "x": "Age",
          "y": "Profession_Healthcare"
         },
         {
          "font": {
           "size": 8
          },
          "showarrow": false,
          "text": "0.25",
          "x": "Graduated",
          "y": "Profession_Healthcare"
         },
         {
          "font": {
           "size": 8
          },
          "showarrow": false,
          "text": "0.01",
          "x": "Work_Experience",
          "y": "Profession_Healthcare"
         },
         {
          "font": {
           "size": 8
          },
          "showarrow": false,
          "text": "0.25",
          "x": "Family_Size",
          "y": "Profession_Healthcare"
         },
         {
          "font": {
           "size": 8
          },
          "showarrow": false,
          "text": "0.31",
          "x": "Profession_Artist",
          "y": "Profession_Healthcare"
         },
         {
          "font": {
           "size": 8
          },
          "showarrow": false,
          "text": "0.14",
          "x": "Profession_Doctor",
          "y": "Profession_Healthcare"
         },
         {
          "font": {
           "size": 8
          },
          "showarrow": false,
          "text": "0.14",
          "x": "Profession_Engineer",
          "y": "Profession_Healthcare"
         },
         {
          "font": {
           "size": 8
          },
          "showarrow": false,
          "text": "0.16",
          "x": "Profession_Entertainment",
          "y": "Profession_Healthcare"
         },
         {
          "font": {
           "size": 8
          },
          "showarrow": false,
          "text": "0.13",
          "x": "Profession_Executive",
          "y": "Profession_Healthcare"
         },
         {
          "font": {
           "size": 8
          },
          "showarrow": false,
          "text": "1.00",
          "x": "Profession_Healthcare",
          "y": "Profession_Healthcare"
         },
         {
          "font": {
           "size": 8
          },
          "showarrow": false,
          "text": "0.07",
          "x": "Profession_Homemaker",
          "y": "Profession_Healthcare"
         },
         {
          "font": {
           "size": 8
          },
          "showarrow": false,
          "text": "0.13",
          "x": "Profession_Lawyer",
          "y": "Profession_Healthcare"
         },
         {
          "font": {
           "size": 8
          },
          "showarrow": false,
          "text": "0.08",
          "x": "Profession_Marketing",
          "y": "Profession_Healthcare"
         },
         {
          "font": {
           "size": 8
          },
          "showarrow": false,
          "text": "0.13",
          "x": "Gender",
          "y": "Profession_Homemaker"
         },
         {
          "font": {
           "size": 8
          },
          "showarrow": false,
          "text": "0.01",
          "x": "Ever_Married",
          "y": "Profession_Homemaker"
         },
         {
          "font": {
           "size": 8
          },
          "showarrow": false,
          "text": "0.06",
          "x": "Age",
          "y": "Profession_Homemaker"
         },
         {
          "font": {
           "size": 8
          },
          "showarrow": false,
          "text": "0.02",
          "x": "Graduated",
          "y": "Profession_Homemaker"
         },
         {
          "font": {
           "size": 8
          },
          "showarrow": false,
          "text": "0.18",
          "x": "Work_Experience",
          "y": "Profession_Homemaker"
         },
         {
          "font": {
           "size": 8
          },
          "showarrow": false,
          "text": "0.06",
          "x": "Family_Size",
          "y": "Profession_Homemaker"
         },
         {
          "font": {
           "size": 8
          },
          "showarrow": false,
          "text": "0.12",
          "x": "Profession_Artist",
          "y": "Profession_Homemaker"
         },
         {
          "font": {
           "size": 8
          },
          "showarrow": false,
          "text": "0.05",
          "x": "Profession_Doctor",
          "y": "Profession_Homemaker"
         },
         {
          "font": {
           "size": 8
          },
          "showarrow": false,
          "text": "0.05",
          "x": "Profession_Engineer",
          "y": "Profession_Homemaker"
         },
         {
          "font": {
           "size": 8
          },
          "showarrow": false,
          "text": "0.06",
          "x": "Profession_Entertainment",
          "y": "Profession_Homemaker"
         },
         {
          "font": {
           "size": 8
          },
          "showarrow": false,
          "text": "0.05",
          "x": "Profession_Executive",
          "y": "Profession_Homemaker"
         },
         {
          "font": {
           "size": 8
          },
          "showarrow": false,
          "text": "0.07",
          "x": "Profession_Healthcare",
          "y": "Profession_Homemaker"
         },
         {
          "font": {
           "size": 8
          },
          "showarrow": false,
          "text": "1.00",
          "x": "Profession_Homemaker",
          "y": "Profession_Homemaker"
         },
         {
          "font": {
           "size": 8
          },
          "showarrow": false,
          "text": "0.05",
          "x": "Profession_Lawyer",
          "y": "Profession_Homemaker"
         },
         {
          "font": {
           "size": 8
          },
          "showarrow": false,
          "text": "0.03",
          "x": "Profession_Marketing",
          "y": "Profession_Homemaker"
         },
         {
          "font": {
           "size": 8
          },
          "showarrow": false,
          "text": "0.03",
          "x": "Gender",
          "y": "Profession_Lawyer"
         },
         {
          "font": {
           "size": 8
          },
          "showarrow": false,
          "text": "0.20",
          "x": "Ever_Married",
          "y": "Profession_Lawyer"
         },
         {
          "font": {
           "size": 8
          },
          "showarrow": false,
          "text": "0.54",
          "x": "Age",
          "y": "Profession_Lawyer"
         },
         {
          "font": {
           "size": 8
          },
          "showarrow": false,
          "text": "0.01",
          "x": "Graduated",
          "y": "Profession_Lawyer"
         },
         {
          "font": {
           "size": 8
          },
          "showarrow": false,
          "text": "0.12",
          "x": "Work_Experience",
          "y": "Profession_Lawyer"
         },
         {
          "font": {
           "size": 8
          },
          "showarrow": false,
          "text": "0.16",
          "x": "Family_Size",
          "y": "Profession_Lawyer"
         },
         {
          "font": {
           "size": 8
          },
          "showarrow": false,
          "text": "0.20",
          "x": "Profession_Artist",
          "y": "Profession_Lawyer"
         },
         {
          "font": {
           "size": 8
          },
          "showarrow": false,
          "text": "0.09",
          "x": "Profession_Doctor",
          "y": "Profession_Lawyer"
         },
         {
          "font": {
           "size": 8
          },
          "showarrow": false,
          "text": "0.09",
          "x": "Profession_Engineer",
          "y": "Profession_Lawyer"
         },
         {
          "font": {
           "size": 8
          },
          "showarrow": false,
          "text": "0.11",
          "x": "Profession_Entertainment",
          "y": "Profession_Lawyer"
         },
         {
          "font": {
           "size": 8
          },
          "showarrow": false,
          "text": "0.08",
          "x": "Profession_Executive",
          "y": "Profession_Lawyer"
         },
         {
          "font": {
           "size": 8
          },
          "showarrow": false,
          "text": "0.13",
          "x": "Profession_Healthcare",
          "y": "Profession_Lawyer"
         },
         {
          "font": {
           "size": 8
          },
          "showarrow": false,
          "text": "0.05",
          "x": "Profession_Homemaker",
          "y": "Profession_Lawyer"
         },
         {
          "font": {
           "size": 8
          },
          "showarrow": false,
          "text": "1.00",
          "x": "Profession_Lawyer",
          "y": "Profession_Lawyer"
         },
         {
          "font": {
           "size": 8
          },
          "showarrow": false,
          "text": "0.05",
          "x": "Profession_Marketing",
          "y": "Profession_Lawyer"
         },
         {
          "font": {
           "size": 8
          },
          "showarrow": false,
          "text": "0.04",
          "x": "Gender",
          "y": "Profession_Marketing"
         },
         {
          "font": {
           "size": 8
          },
          "showarrow": false,
          "text": "0.10",
          "x": "Ever_Married",
          "y": "Profession_Marketing"
         },
         {
          "font": {
           "size": 8
          },
          "showarrow": false,
          "text": "0.08",
          "x": "Age",
          "y": "Profession_Marketing"
         },
         {
          "font": {
           "size": 8
          },
          "showarrow": false,
          "text": "0.10",
          "x": "Graduated",
          "y": "Profession_Marketing"
         },
         {
          "font": {
           "size": 8
          },
          "showarrow": false,
          "text": "0.01",
          "x": "Work_Experience",
          "y": "Profession_Marketing"
         },
         {
          "font": {
           "size": 8
          },
          "showarrow": false,
          "text": "0.03",
          "x": "Family_Size",
          "y": "Profession_Marketing"
         },
         {
          "font": {
           "size": 8
          },
          "showarrow": false,
          "text": "0.13",
          "x": "Profession_Artist",
          "y": "Profession_Marketing"
         },
         {
          "font": {
           "size": 8
          },
          "showarrow": false,
          "text": "0.06",
          "x": "Profession_Doctor",
          "y": "Profession_Marketing"
         },
         {
          "font": {
           "size": 8
          },
          "showarrow": false,
          "text": "0.06",
          "x": "Profession_Engineer",
          "y": "Profession_Marketing"
         },
         {
          "font": {
           "size": 8
          },
          "showarrow": false,
          "text": "0.07",
          "x": "Profession_Entertainment",
          "y": "Profession_Marketing"
         },
         {
          "font": {
           "size": 8
          },
          "showarrow": false,
          "text": "0.05",
          "x": "Profession_Executive",
          "y": "Profession_Marketing"
         },
         {
          "font": {
           "size": 8
          },
          "showarrow": false,
          "text": "0.08",
          "x": "Profession_Healthcare",
          "y": "Profession_Marketing"
         },
         {
          "font": {
           "size": 8
          },
          "showarrow": false,
          "text": "0.03",
          "x": "Profession_Homemaker",
          "y": "Profession_Marketing"
         },
         {
          "font": {
           "size": 8
          },
          "showarrow": false,
          "text": "0.05",
          "x": "Profession_Lawyer",
          "y": "Profession_Marketing"
         },
         {
          "font": {
           "size": 8
          },
          "showarrow": false,
          "text": "1.00",
          "x": "Profession_Marketing",
          "y": "Profession_Marketing"
         }
        ],
        "coloraxis": {
         "cmax": 1,
         "cmin": -1,
         "colorscale": [
          [
           0,
           "rgb(5,48,97)"
          ],
          [
           0.1,
           "rgb(33,102,172)"
          ],
          [
           0.2,
           "rgb(67,147,195)"
          ],
          [
           0.3,
           "rgb(146,197,222)"
          ],
          [
           0.4,
           "rgb(209,229,240)"
          ],
          [
           0.5,
           "rgb(247,247,247)"
          ],
          [
           0.6,
           "rgb(253,219,199)"
          ],
          [
           0.7,
           "rgb(244,165,130)"
          ],
          [
           0.8,
           "rgb(214,96,77)"
          ],
          [
           0.9,
           "rgb(178,24,43)"
          ],
          [
           1,
           "rgb(103,0,31)"
          ]
         ]
        },
        "height": 700,
        "margin": {
         "t": 60
        },
        "template": {
         "data": {
          "bar": [
           {
            "error_x": {
             "color": "#2a3f5f"
            },
            "error_y": {
             "color": "#2a3f5f"
            },
            "marker": {
             "line": {
              "color": "#E5ECF6",
              "width": 0.5
             },
             "pattern": {
              "fillmode": "overlay",
              "size": 10,
              "solidity": 0.2
             }
            },
            "type": "bar"
           }
          ],
          "barpolar": [
           {
            "marker": {
             "line": {
              "color": "#E5ECF6",
              "width": 0.5
             },
             "pattern": {
              "fillmode": "overlay",
              "size": 10,
              "solidity": 0.2
             }
            },
            "type": "barpolar"
           }
          ],
          "carpet": [
           {
            "aaxis": {
             "endlinecolor": "#2a3f5f",
             "gridcolor": "white",
             "linecolor": "white",
             "minorgridcolor": "white",
             "startlinecolor": "#2a3f5f"
            },
            "baxis": {
             "endlinecolor": "#2a3f5f",
             "gridcolor": "white",
             "linecolor": "white",
             "minorgridcolor": "white",
             "startlinecolor": "#2a3f5f"
            },
            "type": "carpet"
           }
          ],
          "choropleth": [
           {
            "colorbar": {
             "outlinewidth": 0,
             "ticks": ""
            },
            "type": "choropleth"
           }
          ],
          "contour": [
           {
            "colorbar": {
             "outlinewidth": 0,
             "ticks": ""
            },
            "colorscale": [
             [
              0,
              "#0d0887"
             ],
             [
              0.1111111111111111,
              "#46039f"
             ],
             [
              0.2222222222222222,
              "#7201a8"
             ],
             [
              0.3333333333333333,
              "#9c179e"
             ],
             [
              0.4444444444444444,
              "#bd3786"
             ],
             [
              0.5555555555555556,
              "#d8576b"
             ],
             [
              0.6666666666666666,
              "#ed7953"
             ],
             [
              0.7777777777777778,
              "#fb9f3a"
             ],
             [
              0.8888888888888888,
              "#fdca26"
             ],
             [
              1,
              "#f0f921"
             ]
            ],
            "type": "contour"
           }
          ],
          "contourcarpet": [
           {
            "colorbar": {
             "outlinewidth": 0,
             "ticks": ""
            },
            "type": "contourcarpet"
           }
          ],
          "heatmap": [
           {
            "colorbar": {
             "outlinewidth": 0,
             "ticks": ""
            },
            "colorscale": [
             [
              0,
              "#0d0887"
             ],
             [
              0.1111111111111111,
              "#46039f"
             ],
             [
              0.2222222222222222,
              "#7201a8"
             ],
             [
              0.3333333333333333,
              "#9c179e"
             ],
             [
              0.4444444444444444,
              "#bd3786"
             ],
             [
              0.5555555555555556,
              "#d8576b"
             ],
             [
              0.6666666666666666,
              "#ed7953"
             ],
             [
              0.7777777777777778,
              "#fb9f3a"
             ],
             [
              0.8888888888888888,
              "#fdca26"
             ],
             [
              1,
              "#f0f921"
             ]
            ],
            "type": "heatmap"
           }
          ],
          "heatmapgl": [
           {
            "colorbar": {
             "outlinewidth": 0,
             "ticks": ""
            },
            "colorscale": [
             [
              0,
              "#0d0887"
             ],
             [
              0.1111111111111111,
              "#46039f"
             ],
             [
              0.2222222222222222,
              "#7201a8"
             ],
             [
              0.3333333333333333,
              "#9c179e"
             ],
             [
              0.4444444444444444,
              "#bd3786"
             ],
             [
              0.5555555555555556,
              "#d8576b"
             ],
             [
              0.6666666666666666,
              "#ed7953"
             ],
             [
              0.7777777777777778,
              "#fb9f3a"
             ],
             [
              0.8888888888888888,
              "#fdca26"
             ],
             [
              1,
              "#f0f921"
             ]
            ],
            "type": "heatmapgl"
           }
          ],
          "histogram": [
           {
            "marker": {
             "pattern": {
              "fillmode": "overlay",
              "size": 10,
              "solidity": 0.2
             }
            },
            "type": "histogram"
           }
          ],
          "histogram2d": [
           {
            "colorbar": {
             "outlinewidth": 0,
             "ticks": ""
            },
            "colorscale": [
             [
              0,
              "#0d0887"
             ],
             [
              0.1111111111111111,
              "#46039f"
             ],
             [
              0.2222222222222222,
              "#7201a8"
             ],
             [
              0.3333333333333333,
              "#9c179e"
             ],
             [
              0.4444444444444444,
              "#bd3786"
             ],
             [
              0.5555555555555556,
              "#d8576b"
             ],
             [
              0.6666666666666666,
              "#ed7953"
             ],
             [
              0.7777777777777778,
              "#fb9f3a"
             ],
             [
              0.8888888888888888,
              "#fdca26"
             ],
             [
              1,
              "#f0f921"
             ]
            ],
            "type": "histogram2d"
           }
          ],
          "histogram2dcontour": [
           {
            "colorbar": {
             "outlinewidth": 0,
             "ticks": ""
            },
            "colorscale": [
             [
              0,
              "#0d0887"
             ],
             [
              0.1111111111111111,
              "#46039f"
             ],
             [
              0.2222222222222222,
              "#7201a8"
             ],
             [
              0.3333333333333333,
              "#9c179e"
             ],
             [
              0.4444444444444444,
              "#bd3786"
             ],
             [
              0.5555555555555556,
              "#d8576b"
             ],
             [
              0.6666666666666666,
              "#ed7953"
             ],
             [
              0.7777777777777778,
              "#fb9f3a"
             ],
             [
              0.8888888888888888,
              "#fdca26"
             ],
             [
              1,
              "#f0f921"
             ]
            ],
            "type": "histogram2dcontour"
           }
          ],
          "mesh3d": [
           {
            "colorbar": {
             "outlinewidth": 0,
             "ticks": ""
            },
            "type": "mesh3d"
           }
          ],
          "parcoords": [
           {
            "line": {
             "colorbar": {
              "outlinewidth": 0,
              "ticks": ""
             }
            },
            "type": "parcoords"
           }
          ],
          "pie": [
           {
            "automargin": true,
            "type": "pie"
           }
          ],
          "scatter": [
           {
            "fillpattern": {
             "fillmode": "overlay",
             "size": 10,
             "solidity": 0.2
            },
            "type": "scatter"
           }
          ],
          "scatter3d": [
           {
            "line": {
             "colorbar": {
              "outlinewidth": 0,
              "ticks": ""
             }
            },
            "marker": {
             "colorbar": {
              "outlinewidth": 0,
              "ticks": ""
             }
            },
            "type": "scatter3d"
           }
          ],
          "scattercarpet": [
           {
            "marker": {
             "colorbar": {
              "outlinewidth": 0,
              "ticks": ""
             }
            },
            "type": "scattercarpet"
           }
          ],
          "scattergeo": [
           {
            "marker": {
             "colorbar": {
              "outlinewidth": 0,
              "ticks": ""
             }
            },
            "type": "scattergeo"
           }
          ],
          "scattergl": [
           {
            "marker": {
             "colorbar": {
              "outlinewidth": 0,
              "ticks": ""
             }
            },
            "type": "scattergl"
           }
          ],
          "scattermapbox": [
           {
            "marker": {
             "colorbar": {
              "outlinewidth": 0,
              "ticks": ""
             }
            },
            "type": "scattermapbox"
           }
          ],
          "scatterpolar": [
           {
            "marker": {
             "colorbar": {
              "outlinewidth": 0,
              "ticks": ""
             }
            },
            "type": "scatterpolar"
           }
          ],
          "scatterpolargl": [
           {
            "marker": {
             "colorbar": {
              "outlinewidth": 0,
              "ticks": ""
             }
            },
            "type": "scatterpolargl"
           }
          ],
          "scatterternary": [
           {
            "marker": {
             "colorbar": {
              "outlinewidth": 0,
              "ticks": ""
             }
            },
            "type": "scatterternary"
           }
          ],
          "surface": [
           {
            "colorbar": {
             "outlinewidth": 0,
             "ticks": ""
            },
            "colorscale": [
             [
              0,
              "#0d0887"
             ],
             [
              0.1111111111111111,
              "#46039f"
             ],
             [
              0.2222222222222222,
              "#7201a8"
             ],
             [
              0.3333333333333333,
              "#9c179e"
             ],
             [
              0.4444444444444444,
              "#bd3786"
             ],
             [
              0.5555555555555556,
              "#d8576b"
             ],
             [
              0.6666666666666666,
              "#ed7953"
             ],
             [
              0.7777777777777778,
              "#fb9f3a"
             ],
             [
              0.8888888888888888,
              "#fdca26"
             ],
             [
              1,
              "#f0f921"
             ]
            ],
            "type": "surface"
           }
          ],
          "table": [
           {
            "cells": {
             "fill": {
              "color": "#EBF0F8"
             },
             "line": {
              "color": "white"
             }
            },
            "header": {
             "fill": {
              "color": "#C8D4E3"
             },
             "line": {
              "color": "white"
             }
            },
            "type": "table"
           }
          ]
         },
         "layout": {
          "annotationdefaults": {
           "arrowcolor": "#2a3f5f",
           "arrowhead": 0,
           "arrowwidth": 1
          },
          "autotypenumbers": "strict",
          "coloraxis": {
           "colorbar": {
            "outlinewidth": 0,
            "ticks": ""
           }
          },
          "colorscale": {
           "diverging": [
            [
             0,
             "#8e0152"
            ],
            [
             0.1,
             "#c51b7d"
            ],
            [
             0.2,
             "#de77ae"
            ],
            [
             0.3,
             "#f1b6da"
            ],
            [
             0.4,
             "#fde0ef"
            ],
            [
             0.5,
             "#f7f7f7"
            ],
            [
             0.6,
             "#e6f5d0"
            ],
            [
             0.7,
             "#b8e186"
            ],
            [
             0.8,
             "#7fbc41"
            ],
            [
             0.9,
             "#4d9221"
            ],
            [
             1,
             "#276419"
            ]
           ],
           "sequential": [
            [
             0,
             "#0d0887"
            ],
            [
             0.1111111111111111,
             "#46039f"
            ],
            [
             0.2222222222222222,
             "#7201a8"
            ],
            [
             0.3333333333333333,
             "#9c179e"
            ],
            [
             0.4444444444444444,
             "#bd3786"
            ],
            [
             0.5555555555555556,
             "#d8576b"
            ],
            [
             0.6666666666666666,
             "#ed7953"
            ],
            [
             0.7777777777777778,
             "#fb9f3a"
            ],
            [
             0.8888888888888888,
             "#fdca26"
            ],
            [
             1,
             "#f0f921"
            ]
           ],
           "sequentialminus": [
            [
             0,
             "#0d0887"
            ],
            [
             0.1111111111111111,
             "#46039f"
            ],
            [
             0.2222222222222222,
             "#7201a8"
            ],
            [
             0.3333333333333333,
             "#9c179e"
            ],
            [
             0.4444444444444444,
             "#bd3786"
            ],
            [
             0.5555555555555556,
             "#d8576b"
            ],
            [
             0.6666666666666666,
             "#ed7953"
            ],
            [
             0.7777777777777778,
             "#fb9f3a"
            ],
            [
             0.8888888888888888,
             "#fdca26"
            ],
            [
             1,
             "#f0f921"
            ]
           ]
          },
          "colorway": [
           "#636efa",
           "#EF553B",
           "#00cc96",
           "#ab63fa",
           "#FFA15A",
           "#19d3f3",
           "#FF6692",
           "#B6E880",
           "#FF97FF",
           "#FECB52"
          ],
          "font": {
           "color": "#2a3f5f"
          },
          "geo": {
           "bgcolor": "white",
           "lakecolor": "white",
           "landcolor": "#E5ECF6",
           "showlakes": true,
           "showland": true,
           "subunitcolor": "white"
          },
          "hoverlabel": {
           "align": "left"
          },
          "hovermode": "closest",
          "mapbox": {
           "style": "light"
          },
          "paper_bgcolor": "white",
          "plot_bgcolor": "#E5ECF6",
          "polar": {
           "angularaxis": {
            "gridcolor": "white",
            "linecolor": "white",
            "ticks": ""
           },
           "bgcolor": "#E5ECF6",
           "radialaxis": {
            "gridcolor": "white",
            "linecolor": "white",
            "ticks": ""
           }
          },
          "scene": {
           "xaxis": {
            "backgroundcolor": "#E5ECF6",
            "gridcolor": "white",
            "gridwidth": 2,
            "linecolor": "white",
            "showbackground": true,
            "ticks": "",
            "zerolinecolor": "white"
           },
           "yaxis": {
            "backgroundcolor": "#E5ECF6",
            "gridcolor": "white",
            "gridwidth": 2,
            "linecolor": "white",
            "showbackground": true,
            "ticks": "",
            "zerolinecolor": "white"
           },
           "zaxis": {
            "backgroundcolor": "#E5ECF6",
            "gridcolor": "white",
            "gridwidth": 2,
            "linecolor": "white",
            "showbackground": true,
            "ticks": "",
            "zerolinecolor": "white"
           }
          },
          "shapedefaults": {
           "line": {
            "color": "#2a3f5f"
           }
          },
          "ternary": {
           "aaxis": {
            "gridcolor": "white",
            "linecolor": "white",
            "ticks": ""
           },
           "baxis": {
            "gridcolor": "white",
            "linecolor": "white",
            "ticks": ""
           },
           "bgcolor": "#E5ECF6",
           "caxis": {
            "gridcolor": "white",
            "linecolor": "white",
            "ticks": ""
           }
          },
          "title": {
           "x": 0.05
          },
          "xaxis": {
           "automargin": true,
           "gridcolor": "white",
           "linecolor": "white",
           "ticks": "",
           "title": {
            "standoff": 15
           },
           "zerolinecolor": "white",
           "zerolinewidth": 2
          },
          "yaxis": {
           "automargin": true,
           "gridcolor": "white",
           "linecolor": "white",
           "ticks": "",
           "title": {
            "standoff": 15
           },
           "zerolinecolor": "white",
           "zerolinewidth": 2
          }
         }
        },
        "width": 800,
        "xaxis": {
         "anchor": "y",
         "domain": [
          0,
          1
         ],
         "side": "top",
         "title": {
          "text": ""
         }
        },
        "yaxis": {
         "anchor": "x",
         "autorange": "reversed",
         "domain": [
          0,
          1
         ],
         "title": {
          "text": ""
         }
        }
       }
      }
     },
     "metadata": {},
     "output_type": "display_data"
    }
   ],
   "source": [
    "# Matriz de correlación\n",
    "correlacion(features)"
   ]
  },
  {
   "cell_type": "markdown",
   "metadata": {},
   "source": [
    "## Prueba de distintos modelos"
   ]
  },
  {
   "cell_type": "code",
   "execution_count": 12,
   "metadata": {},
   "outputs": [
    {
     "data": {
      "text/html": [
       "<div>\n",
       "<style scoped>\n",
       "    .dataframe tbody tr th:only-of-type {\n",
       "        vertical-align: middle;\n",
       "    }\n",
       "\n",
       "    .dataframe tbody tr th {\n",
       "        vertical-align: top;\n",
       "    }\n",
       "\n",
       "    .dataframe thead th {\n",
       "        text-align: right;\n",
       "    }\n",
       "</style>\n",
       "<table border=\"1\" class=\"dataframe\">\n",
       "  <thead>\n",
       "    <tr style=\"text-align: right;\">\n",
       "      <th></th>\n",
       "      <th>Model</th>\n",
       "      <th>Outliers</th>\n",
       "      <th>Scaling</th>\n",
       "      <th>Feature Set</th>\n",
       "      <th>Accuracy</th>\n",
       "    </tr>\n",
       "  </thead>\n",
       "  <tbody>\n",
       "    <tr>\n",
       "      <th>0</th>\n",
       "      <td>Logistic Regression</td>\n",
       "      <td>With Outliers</td>\n",
       "      <td>No Scaling</td>\n",
       "      <td>All Features</td>\n",
       "      <td>0.797619</td>\n",
       "    </tr>\n",
       "    <tr>\n",
       "      <th>1</th>\n",
       "      <td>Decision Tree</td>\n",
       "      <td>With Outliers</td>\n",
       "      <td>No Scaling</td>\n",
       "      <td>All Features</td>\n",
       "      <td>0.753720</td>\n",
       "    </tr>\n",
       "    <tr>\n",
       "      <th>2</th>\n",
       "      <td>Random Forest</td>\n",
       "      <td>With Outliers</td>\n",
       "      <td>No Scaling</td>\n",
       "      <td>All Features</td>\n",
       "      <td>0.774554</td>\n",
       "    </tr>\n",
       "    <tr>\n",
       "      <th>3</th>\n",
       "      <td>SVM</td>\n",
       "      <td>With Outliers</td>\n",
       "      <td>No Scaling</td>\n",
       "      <td>All Features</td>\n",
       "      <td>0.680804</td>\n",
       "    </tr>\n",
       "    <tr>\n",
       "      <th>4</th>\n",
       "      <td>KNN</td>\n",
       "      <td>With Outliers</td>\n",
       "      <td>No Scaling</td>\n",
       "      <td>All Features</td>\n",
       "      <td>0.735863</td>\n",
       "    </tr>\n",
       "    <tr>\n",
       "      <th>...</th>\n",
       "      <td>...</td>\n",
       "      <td>...</td>\n",
       "      <td>...</td>\n",
       "      <td>...</td>\n",
       "      <td>...</td>\n",
       "    </tr>\n",
       "    <tr>\n",
       "      <th>115</th>\n",
       "      <td>Logistic Regression</td>\n",
       "      <td>Without Outliers</td>\n",
       "      <td>Normalization</td>\n",
       "      <td>No Family Size</td>\n",
       "      <td>0.744537</td>\n",
       "    </tr>\n",
       "    <tr>\n",
       "      <th>116</th>\n",
       "      <td>Decision Tree</td>\n",
       "      <td>Without Outliers</td>\n",
       "      <td>Normalization</td>\n",
       "      <td>No Family Size</td>\n",
       "      <td>0.713640</td>\n",
       "    </tr>\n",
       "    <tr>\n",
       "      <th>117</th>\n",
       "      <td>Random Forest</td>\n",
       "      <td>Without Outliers</td>\n",
       "      <td>Normalization</td>\n",
       "      <td>No Family Size</td>\n",
       "      <td>0.724190</td>\n",
       "    </tr>\n",
       "    <tr>\n",
       "      <th>118</th>\n",
       "      <td>SVM</td>\n",
       "      <td>Without Outliers</td>\n",
       "      <td>Normalization</td>\n",
       "      <td>No Family Size</td>\n",
       "      <td>0.745290</td>\n",
       "    </tr>\n",
       "    <tr>\n",
       "      <th>119</th>\n",
       "      <td>KNN</td>\n",
       "      <td>Without Outliers</td>\n",
       "      <td>Normalization</td>\n",
       "      <td>No Family Size</td>\n",
       "      <td>0.724943</td>\n",
       "    </tr>\n",
       "  </tbody>\n",
       "</table>\n",
       "<p>120 rows × 5 columns</p>\n",
       "</div>"
      ],
      "text/plain": [
       "                   Model          Outliers        Scaling     Feature Set  \\\n",
       "0    Logistic Regression     With Outliers     No Scaling    All Features   \n",
       "1          Decision Tree     With Outliers     No Scaling    All Features   \n",
       "2          Random Forest     With Outliers     No Scaling    All Features   \n",
       "3                    SVM     With Outliers     No Scaling    All Features   \n",
       "4                    KNN     With Outliers     No Scaling    All Features   \n",
       "..                   ...               ...            ...             ...   \n",
       "115  Logistic Regression  Without Outliers  Normalization  No Family Size   \n",
       "116        Decision Tree  Without Outliers  Normalization  No Family Size   \n",
       "117        Random Forest  Without Outliers  Normalization  No Family Size   \n",
       "118                  SVM  Without Outliers  Normalization  No Family Size   \n",
       "119                  KNN  Without Outliers  Normalization  No Family Size   \n",
       "\n",
       "     Accuracy  \n",
       "0    0.797619  \n",
       "1    0.753720  \n",
       "2    0.774554  \n",
       "3    0.680804  \n",
       "4    0.735863  \n",
       "..        ...  \n",
       "115  0.744537  \n",
       "116  0.713640  \n",
       "117  0.724190  \n",
       "118  0.745290  \n",
       "119  0.724943  \n",
       "\n",
       "[120 rows x 5 columns]"
      ]
     },
     "execution_count": 12,
     "metadata": {},
     "output_type": "execute_result"
    }
   ],
   "source": [
    "df_results = pd.read_csv(\"../data/model_comparison_results.csv\")\n",
    "df_results"
   ]
  },
  {
   "cell_type": "markdown",
   "metadata": {},
   "source": [
    "## Gráficos"
   ]
  },
  {
   "cell_type": "code",
   "execution_count": 14,
   "metadata": {},
   "outputs": [],
   "source": [
    "df_predicciones = pd.read_csv(\"../data/df_predicciones.csv\")"
   ]
  },
  {
   "cell_type": "code",
   "execution_count": 15,
   "metadata": {},
   "outputs": [
    {
     "data": {
      "image/png": "[encoded data removed]",
      "text/plain": [
       "<Figure size 600x600 with 1 Axes>"
      ]
     },
     "metadata": {},
     "output_type": "display_data"
    }
   ],
   "source": [
    "graficos(df_predicciones, \"Original\")  "
   ]
  },
  {
   "cell_type": "code",
   "execution_count": 16,
   "metadata": {},
   "outputs": [
    {
     "data": {
      "image/png": "[encoded data removed]",
      "text/plain": [
       "<Figure size 600x600 with 1 Axes>"
      ]
     },
     "metadata": {},
     "output_type": "display_data"
    }
   ],
   "source": [
    "graficos(df_predicciones, \"Bagging\")"
   ]
  },
  {
   "cell_type": "code",
   "execution_count": 17,
   "metadata": {},
   "outputs": [
    {
     "data": {
      "image/png": "[encoded data removed]",
      "text/plain": [
       "<Figure size 600x600 with 1 Axes>"
      ]
     },
     "metadata": {},
     "output_type": "display_data"
    }
   ],
   "source": [
    "graficos(df_predicciones, \"Pasting\")  "
   ]
  },
  {
   "cell_type": "code",
   "execution_count": 18,
   "metadata": {},
   "outputs": [
    {
     "data": {
      "image/png": "[encoded data removed]",
      "text/plain": [
       "<Figure size 600x600 with 1 Axes>"
      ]
     },
     "metadata": {},
     "output_type": "display_data"
    }
   ],
   "source": [
    "graficos(df_predicciones, \"Random Forest\")  "
   ]
  },
  {
   "cell_type": "code",
   "execution_count": 19,
   "metadata": {},
   "outputs": [
    {
     "data": {
      "image/png": "[encoded data removed]",
      "text/plain": [
       "<Figure size 600x600 with 1 Axes>"
      ]
     },
     "metadata": {},
     "output_type": "display_data"
    }
   ],
   "source": [
    "graficos(df_predicciones, \"Gradient Boosting\")  "
   ]
  },
  {
   "cell_type": "code",
   "execution_count": 20,
   "metadata": {},
   "outputs": [
    {
     "data": {
      "image/png": "[encoded data removed]",
      "text/plain": [
       "<Figure size 600x600 with 1 Axes>"
      ]
     },
     "metadata": {},
     "output_type": "display_data"
    }
   ],
   "source": [
    "graficos(df_predicciones, \"Adaptative Boosting\")  "
   ]
  }
 ],
 "metadata": {
  "kernelspec": {
   "display_name": "base",
   "language": "python",
   "name": "python3"
  },
  "language_info": {
   "codemirror_mode": {
    "name": "ipython",
    "version": 3
   },
   "file_extension": ".py",
   "mimetype": "text/x-python",
   "name": "python",
   "nbconvert_exporter": "python",
   "pygments_lexer": "ipython3",
   "version": "3.12.4"
  }
 },
 "nbformat": 4,
 "nbformat_minor": 2
}
