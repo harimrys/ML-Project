{
 "cells": [
  {
   "cell_type": "markdown",
   "metadata": {},
   "source": [
    "# Evaluación de Modelos de Clasificación\n",
    "\n",
    "En este notebook, nos enfocaremos en la **evaluación de diferentes modelos de clasificación** para predecir el **Spending Score** de los clientes de una empresa de servicios financieros. La capacidad de clasificar a los clientes en categorías de gasto (Low, Average y High) es esencial para personalizar las ofertas y optimizar las estrategias comerciales.\n",
    "\n",
    "A lo largo de este análisis, probaremos varios algoritmos de clasificación, incluyendo:\n",
    "\n",
    "- **K-Nearest Neighbors (KNN)**: Un método basado en la distancia que clasifica a los puntos de datos en función de sus vecinos más cercanos.\n",
    "- **Bagging**: Un enfoque que combina múltiples modelos de clasificación para mejorar la estabilidad y precisión.\n",
    "- **Pasting**: Similar al bagging, pero utiliza un subconjunto diferente de los datos para cada modelo, lo que también puede aumentar la precisión.\n",
    "- **Random Forest**: Un ensemble de árboles de decisión que mejora la precisión al reducir la varianza y manejar interacciones complejas en los datos.\n",
    "- **Gradient Boosting**: Un método que construye modelos de forma secuencial, corrigiendo los errores de los modelos anteriores para aumentar la precisión.\n",
    "- **Adaptive Boosting (AdaBoost)**: Un algoritmo que ajusta el peso de los modelos basándose en su desempeño, mejorando así la precisión general del conjunto.\n",
    "\n",
    "Después de aplicar estos modelos, estudiaremos los resultados para identificar cuál de ellos presenta el mejor rendimiento en términos de **precisión** y capacidad de **generalización**. La elección del modelo más adecuado será fundamental para nuestro análisis posterior en el notebook principal, donde implementaremos el modelo seleccionado para realizar predicciones y generar estrategias efectivas para la empresa.\n",
    "\n",
    "Este proceso nos permitirá entender las fortalezas y debilidades de cada modelo y nos ayudará a tomar decisiones informadas sobre cuál utilizar en el contexto de la predicción del comportamiento de gasto de los clientes.\n"
   ]
  },
  {
   "cell_type": "code",
   "execution_count": 8,
   "metadata": {},
   "outputs": [],
   "source": [
    "import numpy as np\n",
    "import pandas as pd\n",
    "from sklearn.model_selection import train_test_split\n",
    "from sklearn.preprocessing import StandardScaler, MinMaxScaler\n",
    "from sklearn.linear_model import LogisticRegression\n",
    "from sklearn.tree import DecisionTreeClassifier\n",
    "from sklearn.ensemble import RandomForestClassifier\n",
    "from sklearn.svm import SVC\n",
    "from sklearn.neighbors import KNeighborsClassifier\n",
    "from sklearn.metrics import accuracy_score, classification_report\n",
    "from scipy import stats\n",
    "from sklearn.linear_model import LassoCV\n",
    "from sklearn.ensemble import BaggingClassifier, VotingClassifier\n",
    "from sklearn.ensemble import GradientBoostingClassifier\n",
    "from sklearn.ensemble import AdaBoostClassifier\n",
    "from sklearn.preprocessing import LabelEncoder\n",
    "from sklearn.metrics import confusion_matrix, ConfusionMatrixDisplay\n",
    "import matplotlib.pyplot as plt\n",
    "import seaborn as sns\n",
    "\n",
    "from sklearn.model_selection import GridSearchCV\n",
    "from sklearn.model_selection import RandomizedSearchCV\n",
    "\n",
    "from sklearn.metrics import precision_score, recall_score, f1_score\n",
    "\n",
    "import warnings\n",
    "warnings.filterwarnings(\"ignore\")"
   ]
  },
  {
   "cell_type": "code",
   "execution_count": 9,
   "metadata": {},
   "outputs": [],
   "source": [
    "df = pd.read_csv(r\"../data/df_dummies.csv\")\n",
    "features = pd.read_csv(r\"../data/features.csv\")\n",
    "target = pd.read_csv(r\"../data/target.csv\")\n",
    "\n",
    "results = {}"
   ]
  },
  {
   "cell_type": "code",
   "execution_count": 10,
   "metadata": {},
   "outputs": [],
   "source": [
    "target_series = target.squeeze()"
   ]
  },
  {
   "cell_type": "markdown",
   "metadata": {},
   "source": [
    "## KNN\n"
   ]
  },
  {
   "cell_type": "code",
   "execution_count": 11,
   "metadata": {},
   "outputs": [
    {
     "name": "stdout",
     "output_type": "stream",
     "text": [
      "Accuracy del modelo de KNN: 0.75\n"
     ]
    }
   ],
   "source": [
    "X_train, X_test, y_train, y_test = train_test_split(features, target, test_size=0.2, random_state=42)\n",
    "\n",
    "# Standardize the features\n",
    "scaler = StandardScaler()\n",
    "X_train_scaled = scaler.fit_transform(X_train)\n",
    "X_test_scaled = scaler.transform(X_test)\n",
    "\n",
    "knn = KNeighborsClassifier(n_neighbors=8)\n",
    "\n",
    "knn.fit(X_train, y_train)\n",
    "\n",
    "y_pred_knn = knn.predict(X_test) \n",
    "y_pred_knn\n",
    "\n",
    "knn.score(X_test, y_test) \n",
    "\n",
    "knn_accuracy = accuracy_score(y_test, y_pred_knn)\n",
    "results['KNN'] = knn_accuracy\n",
    "print(f'Accuracy del modelo de KNN: {knn_accuracy:.2f}')"
   ]
  },
  {
   "cell_type": "markdown",
   "metadata": {},
   "source": [
    "## Resultados del Modelo KNN\n",
    "\n",
    "El modelo KNN presenta una precisión global del 75%. Destaca en la clase **Low**, con una precisión del 87% y un recall del 80%, indicando que es efectivo en identificar a estos clientes. Sin embargo, su rendimiento en las clases **Average** y **High** es más limitado, con precisiones de 59% y 62% respectivamente, lo que sugiere oportunidades de mejora en la clasificación de estos grupos. Estas métricas servirán como base para comparar con otros modelos en el análisis posterior.\n"
   ]
  },
  {
   "cell_type": "code",
   "execution_count": 12,
   "metadata": {},
   "outputs": [
    {
     "name": "stdout",
     "output_type": "stream",
     "text": [
      "              precision    recall  f1-score   support\n",
      "\n",
      "     Average       0.59      0.73      0.65       354\n",
      "        High       0.62      0.56      0.59       200\n",
      "         Low       0.87      0.80      0.83       790\n",
      "\n",
      "    accuracy                           0.75      1344\n",
      "   macro avg       0.69      0.70      0.69      1344\n",
      "weighted avg       0.76      0.75      0.75      1344\n",
      "\n"
     ]
    }
   ],
   "source": [
    "print(classification_report(y_test, y_pred_knn))"
   ]
  },
  {
   "cell_type": "code",
   "execution_count": 13,
   "metadata": {},
   "outputs": [
    {
     "data": {
      "text/plain": [
       "<sklearn.metrics._plot.confusion_matrix.ConfusionMatrixDisplay at 0x10433e790>"
      ]
     },
     "execution_count": 13,
     "metadata": {},
     "output_type": "execute_result"
    },
    {
     "data": {
      "image/png": "[encoded data removed]",
      "text/plain": [
       "<Figure size 640x480 with 2 Axes>"
      ]
     },
     "metadata": {},
     "output_type": "display_data"
    }
   ],
   "source": [
    "conf_matrix = confusion_matrix(y_test, y_pred_knn)\n",
    "\n",
    "# Obtener las etiquetas únicas\n",
    "unique_labels = target_series.unique()  # O usa df_target['target'].unique()\n",
    "\n",
    "# Mostramos la matriz de confusión con ConfusionMatrixDisplay\n",
    "disp = ConfusionMatrixDisplay(confusion_matrix=conf_matrix, display_labels=unique_labels)\n",
    "disp.plot(cmap='Blues')"
   ]
  },
  {
   "cell_type": "markdown",
   "metadata": {},
   "source": [
    "## Bagging and Pasting"
   ]
  },
  {
   "cell_type": "code",
   "execution_count": 14,
   "metadata": {},
   "outputs": [
    {
     "name": "stdout",
     "output_type": "stream",
     "text": [
      "Accuracy del modelo de Bagging: 0.77\n",
      "Accuracy del modelo de Pasting: 0.76\n"
     ]
    }
   ],
   "source": [
    "# Dividir el conjunto de datos\n",
    "X_train, X_test, y_train, y_test = train_test_split(features, target, test_size=0.2, random_state=42)\n",
    "\n",
    "# Bagging con DecisionTreeClassifier\n",
    "bagging_model = BaggingClassifier(estimator=DecisionTreeClassifier(), \n",
    "                                   n_estimators=100, \n",
    "                                   random_state=42)\n",
    "\n",
    "# Entrenar el modelo\n",
    "bagging_model.fit(X_train, y_train)\n",
    "\n",
    "# Hacer predicciones\n",
    "y_pred_bagging = bagging_model.predict(X_test)\n",
    "\n",
    "# Evaluar el modelo\n",
    "bagging_accuracy = accuracy_score(y_test, y_pred_bagging)\n",
    "print(f'Accuracy del modelo de Bagging: {bagging_accuracy:.2f}')\n",
    "\n",
    "# Pasting con DecisionTreeClassifier\n",
    "pasting_model = BaggingClassifier(estimator=DecisionTreeClassifier(), \n",
    "                                   n_estimators=100, \n",
    "                                   bootstrap=False,  # Sin reemplazo\n",
    "                                   random_state=42)\n",
    "\n",
    "# Entrenar el modelo\n",
    "pasting_model.fit(X_train, y_train)\n",
    "\n",
    "# Hacer predicciones\n",
    "y_pred_pasting = pasting_model.predict(X_test)\n",
    "\n",
    "# Evaluar el modelo\n",
    "pasting_accuracy = accuracy_score(y_test, y_pred_pasting)\n",
    "results['Bagging and Pasting'] = pasting_accuracy\n",
    "print(f'Accuracy del modelo de Pasting: {pasting_accuracy:.2f}')"
   ]
  },
  {
   "cell_type": "markdown",
   "metadata": {},
   "source": [
    "## Resultados del Modelo Bagging\n",
    "\n",
    "El modelo de **Bagging** alcanza una precisión global del 77%. Destaca en la clase **Low**, con una precisión del 88% y un recall del 85%, lo que indica su efectividad para identificar correctamente a estos clientes. Las clases **Average** y **High** presentan precisiones de 64% y 63%, respectivamente, lo que sugiere un rendimiento más equilibrado pero menos efectivo en comparación con la clase **Low**. En general, el Bagging muestra un rendimiento sólido y mejorado respecto al modelo KNN, proporcionando una base para la evaluación de otros modelos.\n"
   ]
  },
  {
   "cell_type": "code",
   "execution_count": 15,
   "metadata": {},
   "outputs": [
    {
     "name": "stdout",
     "output_type": "stream",
     "text": [
      "              precision    recall  f1-score   support\n",
      "\n",
      "     Average       0.64      0.68      0.66       354\n",
      "        High       0.63      0.63      0.63       200\n",
      "         Low       0.88      0.85      0.87       790\n",
      "\n",
      "    accuracy                           0.77      1344\n",
      "   macro avg       0.71      0.72      0.72      1344\n",
      "weighted avg       0.78      0.77      0.78      1344\n",
      "\n"
     ]
    }
   ],
   "source": [
    "print(classification_report(y_test, y_pred_bagging))"
   ]
  },
  {
   "cell_type": "markdown",
   "metadata": {},
   "source": [
    "## Resultados del Modelo Pasting\n",
    "\n",
    "El modelo de **Pasting** obtiene una precisión global del 76%. Al igual que en el modelo de Bagging, destaca en la clase **Low**, con una precisión del 88% y un recall del 86%, indicando una fuerte capacidad para identificar a estos clientes. Sin embargo, su rendimiento en las clases **Average** y **High** es inferior, con precisiones de 63% y 55%, respectivamente. Estos resultados son ligeramente inferiores a los del modelo de Bagging, lo que sugiere que Pasting podría no ser tan efectivo en la clasificación general como otros modelos evaluados.\n"
   ]
  },
  {
   "cell_type": "code",
   "execution_count": 16,
   "metadata": {},
   "outputs": [
    {
     "name": "stdout",
     "output_type": "stream",
     "text": [
      "              precision    recall  f1-score   support\n",
      "\n",
      "     Average       0.63      0.62      0.62       354\n",
      "        High       0.55      0.60      0.57       200\n",
      "         Low       0.88      0.86      0.87       790\n",
      "\n",
      "    accuracy                           0.76      1344\n",
      "   macro avg       0.68      0.69      0.69      1344\n",
      "weighted avg       0.76      0.76      0.76      1344\n",
      "\n"
     ]
    }
   ],
   "source": [
    "print(classification_report(y_test, y_pred_pasting))"
   ]
  },
  {
   "cell_type": "code",
   "execution_count": 10,
   "metadata": {},
   "outputs": [
    {
     "data": {
      "text/plain": [
       "<sklearn.metrics._plot.confusion_matrix.ConfusionMatrixDisplay at 0x1ddb4067110>"
      ]
     },
     "execution_count": 10,
     "metadata": {},
     "output_type": "execute_result"
    },
    {
     "data": {
      "image/png": "[encoded data removed]",
      "text/plain": [
       "<Figure size 640x480 with 2 Axes>"
      ]
     },
     "metadata": {},
     "output_type": "display_data"
    }
   ],
   "source": [
    "conf_matrix = confusion_matrix(y_test, y_pred_bagging)\n",
    "\n",
    "# Obtener las etiquetas únicas\n",
    "unique_labels = target_series.unique()  # O usa df_target['target'].unique()\n",
    "\n",
    "# Mostramos la matriz de confusión con ConfusionMatrixDisplay\n",
    "disp = ConfusionMatrixDisplay(confusion_matrix=conf_matrix, display_labels=unique_labels)\n",
    "disp.plot(cmap='Blues')"
   ]
  },
  {
   "cell_type": "code",
   "execution_count": 17,
   "metadata": {},
   "outputs": [
    {
     "data": {
      "text/plain": [
       "<sklearn.metrics._plot.confusion_matrix.ConfusionMatrixDisplay at 0x1623911d0>"
      ]
     },
     "execution_count": 17,
     "metadata": {},
     "output_type": "execute_result"
    },
    {
     "data": {
      "image/png": "[encoded data removed]",
      "text/plain": [
       "<Figure size 640x480 with 2 Axes>"
      ]
     },
     "metadata": {},
     "output_type": "display_data"
    }
   ],
   "source": [
    "conf_matrix = confusion_matrix(y_test, y_pred_pasting)\n",
    "\n",
    "# Obtener las etiquetas únicas\n",
    "unique_labels = target_series.unique()  # O usa df_target['target'].unique()\n",
    "\n",
    "# Mostramos la matriz de confusión con ConfusionMatrixDisplay\n",
    "disp = ConfusionMatrixDisplay(confusion_matrix=conf_matrix, display_labels=unique_labels)\n",
    "disp.plot(cmap='Blues')"
   ]
  },
  {
   "cell_type": "markdown",
   "metadata": {},
   "source": [
    "## Random Forest"
   ]
  },
  {
   "cell_type": "code",
   "execution_count": 18,
   "metadata": {},
   "outputs": [
    {
     "name": "stdout",
     "output_type": "stream",
     "text": [
      "Accuracy del modelo de Random Forest: 0.77\n"
     ]
    }
   ],
   "source": [
    "X_train, X_test, y_train, y_test = train_test_split(features, target, test_size=0.2, random_state=42)\n",
    "\n",
    "# Crear el modelo de Random Forest\n",
    "rf_model = RandomForestClassifier(n_estimators=100, random_state=42)\n",
    "\n",
    "# Entrenar el modelo\n",
    "rf_model.fit(X_train, y_train)\n",
    "\n",
    "# Hacer predicciones\n",
    "y_pred_rf = rf_model.predict(X_test)\n",
    "\n",
    "# Evaluar el modelo\n",
    "rf_accuracy = accuracy_score(y_test, y_pred_rf)\n",
    "results['Random Forest'] = rf_accuracy\n",
    "print(f'Accuracy del modelo de Random Forest: {rf_accuracy:.2f}')"
   ]
  },
  {
   "cell_type": "markdown",
   "metadata": {},
   "source": [
    "## Resultados del Modelo Random Forest\n",
    "\n",
    "El modelo de **Random Forest** alcanza una precisión global del 78%, mejorando ligeramente en comparación con los modelos anteriores. Destaca en la clase **Low**, con una precisión del 87% y un recall del 86%, lo que indica su efectividad en la identificación de estos clientes. Las clases **Average** y **High** tienen precisiones de 66% y 60%, respectivamente, lo que sugiere un rendimiento sólido, aunque el modelo aún enfrenta desafíos en la clasificación de la clase **High**. En general, Random Forest muestra un desempeño robusto, consolidándose como un fuerte candidato en nuestra evaluación de modelos.\n"
   ]
  },
  {
   "cell_type": "code",
   "execution_count": 13,
   "metadata": {},
   "outputs": [
    {
     "name": "stdout",
     "output_type": "stream",
     "text": [
      "              precision    recall  f1-score   support\n",
      "\n",
      "     Average       0.66      0.68      0.67       354\n",
      "        High       0.60      0.59      0.60       200\n",
      "         Low       0.87      0.86      0.87       790\n",
      "\n",
      "    accuracy                           0.78      1344\n",
      "   macro avg       0.71      0.71      0.71      1344\n",
      "weighted avg       0.78      0.78      0.78      1344\n",
      "\n"
     ]
    }
   ],
   "source": [
    "print(classification_report(y_test, y_pred_rf))"
   ]
  },
  {
   "cell_type": "code",
   "execution_count": 19,
   "metadata": {},
   "outputs": [
    {
     "data": {
      "text/plain": [
       "<sklearn.metrics._plot.confusion_matrix.ConfusionMatrixDisplay at 0x162428950>"
      ]
     },
     "execution_count": 19,
     "metadata": {},
     "output_type": "execute_result"
    },
    {
     "data": {
      "image/png": "[encoded data removed]",
      "text/plain": [
       "<Figure size 640x480 with 2 Axes>"
      ]
     },
     "metadata": {},
     "output_type": "display_data"
    }
   ],
   "source": [
    "conf_matrix = confusion_matrix(y_test, y_pred_rf)\n",
    "\n",
    "# Obtener las etiquetas únicas\n",
    "unique_labels = target_series.unique()  # O usa df_target['target'].unique()\n",
    "\n",
    "# Mostramos la matriz de confusión con ConfusionMatrixDisplay\n",
    "disp = ConfusionMatrixDisplay(confusion_matrix=conf_matrix, display_labels=unique_labels)\n",
    "disp.plot(cmap='Blues')"
   ]
  },
  {
   "cell_type": "markdown",
   "metadata": {},
   "source": [
    "## Gradient Boosting"
   ]
  },
  {
   "cell_type": "code",
   "execution_count": 20,
   "metadata": {},
   "outputs": [
    {
     "name": "stdout",
     "output_type": "stream",
     "text": [
      "Accuracy del modelo de Gradient Boosting: 0.82\n"
     ]
    }
   ],
   "source": [
    "X_train, X_test, y_train, y_test = train_test_split(features, target, test_size=0.2, random_state=42)\n",
    "\n",
    "# Crear el modelo de Gradient Boosting\n",
    "gb_model = GradientBoostingClassifier(n_estimators=100, random_state=42)\n",
    "\n",
    "# Entrenar el modelo\n",
    "gb_model.fit(X_train, y_train)\n",
    "\n",
    "# Hacer predicciones\n",
    "y_pred_gb = gb_model.predict(X_test)\n",
    "\n",
    "# Evaluar el modelo\n",
    "gb_accuracy = accuracy_score(y_test, y_pred_gb)\n",
    "results['Gradient Boosting'] = gb_accuracy\n",
    "print(f'Accuracy del modelo de Gradient Boosting: {gb_accuracy:.2f}')"
   ]
  },
  {
   "cell_type": "markdown",
   "metadata": {},
   "source": [
    "## Resultados del Modelo Gradient Boosting\n",
    "\n",
    "El modelo de **Gradient Boosting** obtiene una precisión global del 82%, destacándose como uno de los mejores hasta ahora. Muestra un rendimiento excepcional en la clase **Low**, con una precisión del 96% y un recall del 82%, lo que indica una alta efectividad en identificar a estos clientes. Para la clase **Average**, la precisión es del 65%, con un recall notablemente alto del 89%, lo que sugiere que el modelo es muy bueno para capturar instancias reales de esta categoría. En la clase **High**, se observa una precisión del 74% y un recall del 69%, lo que representa una mejora respecto a modelos anteriores. En general, Gradient Boosting muestra un sólido desempeño y se posiciona como un candidato fuerte en la selección del mejor modelo.\n"
   ]
  },
  {
   "cell_type": "code",
   "execution_count": 21,
   "metadata": {},
   "outputs": [
    {
     "name": "stdout",
     "output_type": "stream",
     "text": [
      "              precision    recall  f1-score   support\n",
      "\n",
      "     Average       0.65      0.89      0.75       354\n",
      "        High       0.74      0.69      0.72       200\n",
      "         Low       0.96      0.82      0.89       790\n",
      "\n",
      "    accuracy                           0.82      1344\n",
      "   macro avg       0.78      0.80      0.79      1344\n",
      "weighted avg       0.85      0.82      0.83      1344\n",
      "\n"
     ]
    }
   ],
   "source": [
    "print(classification_report(y_test, y_pred_gb))"
   ]
  },
  {
   "cell_type": "code",
   "execution_count": 22,
   "metadata": {},
   "outputs": [
    {
     "data": {
      "text/plain": [
       "<sklearn.metrics._plot.confusion_matrix.ConfusionMatrixDisplay at 0x16253ba90>"
      ]
     },
     "execution_count": 22,
     "metadata": {},
     "output_type": "execute_result"
    },
    {
     "data": {
      "image/png": "[encoded data removed]",
      "text/plain": [
       "<Figure size 640x480 with 2 Axes>"
      ]
     },
     "metadata": {},
     "output_type": "display_data"
    }
   ],
   "source": [
    "conf_matrix = confusion_matrix(y_test, y_pred_gb)\n",
    "\n",
    "# Obtener las etiquetas únicas\n",
    "unique_labels = target_series.unique()  # O usa df_target['target'].unique()\n",
    "\n",
    "# Mostramos la matriz de confusión con ConfusionMatrixDisplay\n",
    "disp = ConfusionMatrixDisplay(confusion_matrix=conf_matrix, display_labels=unique_labels)\n",
    "disp.plot(cmap='Blues')"
   ]
  },
  {
   "cell_type": "markdown",
   "metadata": {},
   "source": [
    "## Adaptive Boosting"
   ]
  },
  {
   "cell_type": "code",
   "execution_count": 23,
   "metadata": {},
   "outputs": [
    {
     "name": "stdout",
     "output_type": "stream",
     "text": [
      "Accuracy del modelo de AdaBoost: 0.82\n"
     ]
    }
   ],
   "source": [
    "X_train, X_test, y_train, y_test = train_test_split(features, target, test_size=0.2, random_state=42)\n",
    "\n",
    "# Crear el modelo de AdaBoost\n",
    "# Usaremos un árbol de decisión como clasificador base\n",
    "ada_model = AdaBoostClassifier(estimator=DecisionTreeClassifier(max_depth=1), \n",
    "                                n_estimators=100, \n",
    "                                random_state=42)\n",
    "\n",
    "# Entrenar el modelo\n",
    "ada_model.fit(X_train, y_train)\n",
    "\n",
    "# Hacer predicciones\n",
    "y_pred_ada = ada_model.predict(X_test)\n",
    "\n",
    "# Evaluar el modelo\n",
    "ada_accuracy = accuracy_score(y_test, y_pred_ada)\n",
    "results[\"Adaptative Boosting\"] = ada_accuracy\n",
    "print(f'Accuracy del modelo de AdaBoost: {ada_accuracy:.2f}')"
   ]
  },
  {
   "cell_type": "markdown",
   "metadata": {},
   "source": [
    "## Resultados del Modelo AdaBoost\n",
    "\n",
    "El modelo de **AdaBoost** alcanza una precisión global del 82%, alineándose con los resultados del modelo de **Gradient Boosting**. En la clase **Low**, muestra un alto rendimiento con una precisión del 95% y un recall del 83%, indicando una sólida capacidad para identificar a estos clientes. Para la clase **Average**, la precisión es del 66% y el recall del 88%, lo que sugiere que el modelo es efectivo en captar instancias de esta categoría. En la clase **High**, se observa una precisión del 72% y un recall del 66%, mostrando un rendimiento aceptable pero con margen para mejorar. En resumen, AdaBoost presenta un desempeño robusto y competitivo, destacándose como un modelo fuerte en la evaluación general.\n"
   ]
  },
  {
   "cell_type": "code",
   "execution_count": 24,
   "metadata": {},
   "outputs": [
    {
     "name": "stdout",
     "output_type": "stream",
     "text": [
      "              precision    recall  f1-score   support\n",
      "\n",
      "     Average       0.66      0.88      0.75       354\n",
      "        High       0.72      0.66      0.69       200\n",
      "         Low       0.95      0.83      0.88       790\n",
      "\n",
      "    accuracy                           0.82      1344\n",
      "   macro avg       0.78      0.79      0.77      1344\n",
      "weighted avg       0.84      0.82      0.82      1344\n",
      "\n"
     ]
    }
   ],
   "source": [
    "print(classification_report(y_test, y_pred_ada))"
   ]
  },
  {
   "cell_type": "code",
   "execution_count": 25,
   "metadata": {},
   "outputs": [
    {
     "data": {
      "text/plain": [
       "<sklearn.metrics._plot.confusion_matrix.ConfusionMatrixDisplay at 0x16246a450>"
      ]
     },
     "execution_count": 25,
     "metadata": {},
     "output_type": "execute_result"
    },
    {
     "data": {
      "image/png": "[encoded data removed]",
      "text/plain": [
       "<Figure size 640x480 with 2 Axes>"
      ]
     },
     "metadata": {},
     "output_type": "display_data"
    }
   ],
   "source": [
    "conf_matrix = confusion_matrix(y_test, y_pred_ada)\n",
    "\n",
    "# Obtener las etiquetas únicas\n",
    "unique_labels = target_series.unique()  # O usa df_target['target'].unique()\n",
    "\n",
    "# Mostramos la matriz de confusión con ConfusionMatrixDisplay\n",
    "disp = ConfusionMatrixDisplay(confusion_matrix=conf_matrix, display_labels=unique_labels)\n",
    "disp.plot(cmap='Blues')"
   ]
  },
  {
   "cell_type": "markdown",
   "metadata": {},
   "source": [
    "## Results"
   ]
  },
  {
   "cell_type": "code",
   "execution_count": 30,
   "metadata": {},
   "outputs": [
    {
     "name": "stdout",
     "output_type": "stream",
     "text": [
      "Resultados de los Modelos:\n",
      "                Modelo  Precisión\n",
      "3    Gradient Boosting   0.819940\n",
      "4  Adaptative Boosting   0.815476\n",
      "2        Random Forest   0.774554\n",
      "1  Bagging and Pasting   0.758185\n",
      "0                  KNN   0.745536\n",
      "\n",
      "El mejor modelo es: Gradient Boosting con una precisión de: 0.82\n"
     ]
    },
    {
     "data": {
      "text/html": [
       "<div>\n",
       "<style scoped>\n",
       "    .dataframe tbody tr th:only-of-type {\n",
       "        vertical-align: middle;\n",
       "    }\n",
       "\n",
       "    .dataframe tbody tr th {\n",
       "        vertical-align: top;\n",
       "    }\n",
       "\n",
       "    .dataframe thead th {\n",
       "        text-align: right;\n",
       "    }\n",
       "</style>\n",
       "<table border=\"1\" class=\"dataframe\">\n",
       "  <thead>\n",
       "    <tr style=\"text-align: right;\">\n",
       "      <th></th>\n",
       "      <th>Modelo</th>\n",
       "      <th>Precisión</th>\n",
       "    </tr>\n",
       "  </thead>\n",
       "  <tbody>\n",
       "    <tr>\n",
       "      <th>3</th>\n",
       "      <td>Gradient Boosting</td>\n",
       "      <td>0.819940</td>\n",
       "    </tr>\n",
       "    <tr>\n",
       "      <th>4</th>\n",
       "      <td>Adaptative Boosting</td>\n",
       "      <td>0.815476</td>\n",
       "    </tr>\n",
       "    <tr>\n",
       "      <th>2</th>\n",
       "      <td>Random Forest</td>\n",
       "      <td>0.774554</td>\n",
       "    </tr>\n",
       "    <tr>\n",
       "      <th>1</th>\n",
       "      <td>Bagging and Pasting</td>\n",
       "      <td>0.758185</td>\n",
       "    </tr>\n",
       "    <tr>\n",
       "      <th>0</th>\n",
       "      <td>KNN</td>\n",
       "      <td>0.745536</td>\n",
       "    </tr>\n",
       "  </tbody>\n",
       "</table>\n",
       "</div>"
      ],
      "text/plain": [
       "                Modelo  Precisión\n",
       "3    Gradient Boosting   0.819940\n",
       "4  Adaptative Boosting   0.815476\n",
       "2        Random Forest   0.774554\n",
       "1  Bagging and Pasting   0.758185\n",
       "0                  KNN   0.745536"
      ]
     },
     "execution_count": 30,
     "metadata": {},
     "output_type": "execute_result"
    }
   ],
   "source": [
    "results_df = pd.DataFrame(results.items(), columns=['Modelo', 'Precisión'])\n",
    "results_df.sort_values(by='Precisión', ascending=False, inplace=True)\n",
    "results_df.to_csv('../data/df_results.csv')\n",
    "# Mostrar los resultados\n",
    "print(\"Resultados de los Modelos:\")\n",
    "print(results_df)\n",
    "\n",
    "# Determinar y mostrar el mejor modelo\n",
    "best_model = results_df.iloc[0]\n",
    "print(f\"\\nEl mejor modelo es: {best_model['Modelo']} con una precisión de: {best_model['Precisión']:.2f}\")\n",
    "results_df"
   ]
  },
  {
   "cell_type": "code",
   "execution_count": 27,
   "metadata": {},
   "outputs": [],
   "source": [
    "y_test_sq = y_test.squeeze()"
   ]
  },
  {
   "cell_type": "code",
   "execution_count": 28,
   "metadata": {},
   "outputs": [
    {
     "data": {
      "text/html": [
       "<div>\n",
       "<style scoped>\n",
       "    .dataframe tbody tr th:only-of-type {\n",
       "        vertical-align: middle;\n",
       "    }\n",
       "\n",
       "    .dataframe tbody tr th {\n",
       "        vertical-align: top;\n",
       "    }\n",
       "\n",
       "    .dataframe thead th {\n",
       "        text-align: right;\n",
       "    }\n",
       "</style>\n",
       "<table border=\"1\" class=\"dataframe\">\n",
       "  <thead>\n",
       "    <tr style=\"text-align: right;\">\n",
       "      <th></th>\n",
       "      <th>Original</th>\n",
       "      <th>Bagging</th>\n",
       "      <th>Pasting</th>\n",
       "      <th>Random Forest</th>\n",
       "      <th>Gradient Boosting</th>\n",
       "      <th>Adaptative Boosting</th>\n",
       "    </tr>\n",
       "  </thead>\n",
       "  <tbody>\n",
       "    <tr>\n",
       "      <th>5774</th>\n",
       "      <td>High</td>\n",
       "      <td>High</td>\n",
       "      <td>High</td>\n",
       "      <td>Low</td>\n",
       "      <td>High</td>\n",
       "      <td>Low</td>\n",
       "    </tr>\n",
       "    <tr>\n",
       "      <th>4221</th>\n",
       "      <td>Low</td>\n",
       "      <td>High</td>\n",
       "      <td>High</td>\n",
       "      <td>High</td>\n",
       "      <td>High</td>\n",
       "      <td>High</td>\n",
       "    </tr>\n",
       "    <tr>\n",
       "      <th>4697</th>\n",
       "      <td>Average</td>\n",
       "      <td>High</td>\n",
       "      <td>High</td>\n",
       "      <td>Low</td>\n",
       "      <td>Average</td>\n",
       "      <td>Average</td>\n",
       "    </tr>\n",
       "    <tr>\n",
       "      <th>1616</th>\n",
       "      <td>Average</td>\n",
       "      <td>High</td>\n",
       "      <td>High</td>\n",
       "      <td>Low</td>\n",
       "      <td>Low</td>\n",
       "      <td>Average</td>\n",
       "    </tr>\n",
       "    <tr>\n",
       "      <th>1886</th>\n",
       "      <td>Low</td>\n",
       "      <td>Low</td>\n",
       "      <td>Low</td>\n",
       "      <td>Low</td>\n",
       "      <td>Low</td>\n",
       "      <td>Low</td>\n",
       "    </tr>\n",
       "    <tr>\n",
       "      <th>...</th>\n",
       "      <td>...</td>\n",
       "      <td>...</td>\n",
       "      <td>...</td>\n",
       "      <td>...</td>\n",
       "      <td>...</td>\n",
       "      <td>...</td>\n",
       "    </tr>\n",
       "    <tr>\n",
       "      <th>4333</th>\n",
       "      <td>Low</td>\n",
       "      <td>Low</td>\n",
       "      <td>Low</td>\n",
       "      <td>Low</td>\n",
       "      <td>Low</td>\n",
       "      <td>Low</td>\n",
       "    </tr>\n",
       "    <tr>\n",
       "      <th>422</th>\n",
       "      <td>Low</td>\n",
       "      <td>Low</td>\n",
       "      <td>Low</td>\n",
       "      <td>Low</td>\n",
       "      <td>Low</td>\n",
       "      <td>Low</td>\n",
       "    </tr>\n",
       "    <tr>\n",
       "      <th>3355</th>\n",
       "      <td>Average</td>\n",
       "      <td>High</td>\n",
       "      <td>High</td>\n",
       "      <td>Average</td>\n",
       "      <td>Average</td>\n",
       "      <td>Average</td>\n",
       "    </tr>\n",
       "    <tr>\n",
       "      <th>4814</th>\n",
       "      <td>Low</td>\n",
       "      <td>Low</td>\n",
       "      <td>Low</td>\n",
       "      <td>Low</td>\n",
       "      <td>Low</td>\n",
       "      <td>Low</td>\n",
       "    </tr>\n",
       "    <tr>\n",
       "      <th>881</th>\n",
       "      <td>Low</td>\n",
       "      <td>Low</td>\n",
       "      <td>Low</td>\n",
       "      <td>Low</td>\n",
       "      <td>Low</td>\n",
       "      <td>Low</td>\n",
       "    </tr>\n",
       "  </tbody>\n",
       "</table>\n",
       "<p>1344 rows × 6 columns</p>\n",
       "</div>"
      ],
      "text/plain": [
       "     Original Bagging Pasting Random Forest Gradient Boosting  \\\n",
       "5774     High    High    High           Low              High   \n",
       "4221      Low    High    High          High              High   \n",
       "4697  Average    High    High           Low           Average   \n",
       "1616  Average    High    High           Low               Low   \n",
       "1886      Low     Low     Low           Low               Low   \n",
       "...       ...     ...     ...           ...               ...   \n",
       "4333      Low     Low     Low           Low               Low   \n",
       "422       Low     Low     Low           Low               Low   \n",
       "3355  Average    High    High       Average           Average   \n",
       "4814      Low     Low     Low           Low               Low   \n",
       "881       Low     Low     Low           Low               Low   \n",
       "\n",
       "     Adaptative Boosting  \n",
       "5774                 Low  \n",
       "4221                High  \n",
       "4697             Average  \n",
       "1616             Average  \n",
       "1886                 Low  \n",
       "...                  ...  \n",
       "4333                 Low  \n",
       "422                  Low  \n",
       "3355             Average  \n",
       "4814                 Low  \n",
       "881                  Low  \n",
       "\n",
       "[1344 rows x 6 columns]"
      ]
     },
     "execution_count": 28,
     "metadata": {},
     "output_type": "execute_result"
    }
   ],
   "source": [
    "df_predicciones = pd.DataFrame({\n",
    "    'Original': y_test_sq,\n",
    "    'Bagging': y_pred_bagging,\n",
    "    'Pasting': y_pred_pasting,\n",
    "    \"Random Forest\": y_pred_rf,\n",
    "    \"Gradient Boosting\": y_pred_gb,\n",
    "    \"Adaptative Boosting\": y_pred_ada\n",
    "})\n",
    "\n",
    "df_predicciones.to_csv(\"../data/df_predicciones.csv\")\n",
    "df_predicciones"
   ]
  },
  {
   "cell_type": "markdown",
   "metadata": {},
   "source": [
    "Gradient Boosting con GridSearchCV"
   ]
  },
  {
   "cell_type": "code",
   "execution_count": 25,
   "metadata": {},
   "outputs": [
    {
     "name": "stdout",
     "output_type": "stream",
     "text": [
      "Mejores parámetros encontrados: {'learning_rate': 0.1, 'max_depth': 3, 'min_samples_leaf': 2, 'min_samples_split': 2, 'n_estimators': 50}\n",
      "Accuracy del modelo de Gradient Boosting: 0.82\n"
     ]
    }
   ],
   "source": [
    "X_train, X_test, y_train, y_test = train_test_split(features, target, test_size=0.2, random_state=42)\n",
    "\n",
    "# Crear el modelo de Gradient Boosting\n",
    "gb_model = GradientBoostingClassifier(random_state=42)\n",
    "\n",
    "# Definir el grid de hiperparámetros\n",
    "grid = {\n",
    "    'n_estimators': [50, 100],  # Reducido de 150 a 100\n",
    "    'learning_rate': [0.01, 0.1],  # Mantener solo los más relevantes\n",
    "    'max_depth': [3, 4],  # Reducido de 5 a 4\n",
    "    'min_samples_split': [2, 5],  # Mantener solo los más relevantes\n",
    "    'min_samples_leaf': [1, 2]  # Mantener solo los más relevantes\n",
    "}\n",
    "\n",
    "# Ajustar el modelo usando GridSearchCV\n",
    "model = GridSearchCV(estimator=gb_model, param_grid=grid, cv=5, scoring='accuracy')\n",
    "model.fit(X_train, y_train)\n",
    "\n",
    "# Hacer predicciones con el mejor modelo encontrado\n",
    "y_pred_gb = model.predict(X_test)\n",
    "\n",
    "# Evaluar el modelo\n",
    "gb_accuracy = accuracy_score(y_test, y_pred_gb)\n",
    "\n",
    "# Almacenar resultados\n",
    "results['Gradient Boosting'] = gb_accuracy\n",
    "\n",
    "# Imprimir los resultados\n",
    "print(f'Mejores parámetros encontrados: {model.best_params_}')\n",
    "print(f'Accuracy del modelo de Gradient Boosting: {gb_accuracy:.2f}')"
   ]
  },
  {
   "cell_type": "markdown",
   "metadata": {},
   "source": [
    "## Resultados del Modelo de Gradient Boosting\n",
    "\n",
    "Después de ajustar el modelo de **Gradient Boosting** utilizando GridSearchCV, se encontraron los mejores parámetros: \n",
    "- **Learning Rate:** 0.1\n",
    "- **Max Depth:** 3\n",
    "- **Min Samples Leaf:** 2\n",
    "- **Min Samples Split:** 2\n",
    "- **N Estimators:** 50\n",
    "\n",
    "El modelo logró una **precisión** del **82%** en el conjunto de prueba, lo que lo convierte en uno de los modelos más efectivos en nuestra evaluación. Este rendimiento refuerza su potencial para predecir el **Spending Score** de manera efectiva.\n"
   ]
  },
  {
   "cell_type": "markdown",
   "metadata": {},
   "source": [
    "Gardient Boosting con RandomizedSearchCV"
   ]
  },
  {
   "cell_type": "code",
   "execution_count": 26,
   "metadata": {},
   "outputs": [
    {
     "name": "stdout",
     "output_type": "stream",
     "text": [
      "Mejores parámetros encontrados: {'n_estimators': 100, 'min_samples_split': 2, 'min_samples_leaf': 1, 'max_depth': 3, 'learning_rate': 0.1}\n",
      "Accuracy del modelo de Gradient Boosting: 0.82\n"
     ]
    }
   ],
   "source": [
    "X_train, X_test, y_train, y_test = train_test_split(features, target, test_size=0.2, random_state=42)\n",
    "\n",
    "# Crear el modelo de Gradient Boosting\n",
    "gb_model = GradientBoostingClassifier(random_state=42)\n",
    "\n",
    "# Definir el grid de hiperparámetros con un rango reducido\n",
    "param_dist = {\n",
    "    'n_estimators': [50, 100],  # Mantener solo 50 y 100\n",
    "    'learning_rate': [0.01, 0.1],  # Mantener solo los más relevantes\n",
    "    'max_depth': [3, 4],  # Reducido a 3 y 4\n",
    "    'min_samples_split': [2, 5],  # Reducido a 2 y 5\n",
    "    'min_samples_leaf': [1, 2]  # Reducido a 1 y 2\n",
    "}\n",
    "\n",
    "# Ajustar el modelo usando RandomizedSearchCV\n",
    "model = RandomizedSearchCV(estimator=gb_model, param_distributions=param_dist, n_iter=5, cv=3, scoring='accuracy', random_state=42)\n",
    "model.fit(X_train, y_train)\n",
    "\n",
    "# Hacer predicciones con el mejor modelo encontrado\n",
    "y_pred_gb = model.predict(X_test)\n",
    "\n",
    "# Evaluar el modelo\n",
    "gb_accuracy = accuracy_score(y_test, y_pred_gb)\n",
    "\n",
    "# Almacenar resultados\n",
    "results['Gradient Boosting'] = gb_accuracy\n",
    "\n",
    "# Imprimir los resultados\n",
    "print(f'Mejores parámetros encontrados: {model.best_params_}')\n",
    "print(f'Accuracy del modelo de Gradient Boosting: {gb_accuracy:.2f}')"
   ]
  },
  {
   "cell_type": "markdown",
   "metadata": {},
   "source": [
    "## Resultados del Modelo de Gradient Boosting con RandomizedSearchCV\n",
    "\n",
    "Tras ajustar el modelo de **Gradient Boosting** con **RandomizedSearchCV**, se identificaron los siguientes mejores parámetros:\n",
    "- **N Estimators:** 100\n",
    "- **Min Samples Split:** 2\n",
    "- **Min Samples Leaf:** 1\n",
    "- **Max Depth:** 3\n",
    "- **Learning Rate:** 0.1\n",
    "\n",
    "El modelo alcanzó una **precisión** del **82%** en el conjunto de prueba, consolidándose como uno de los modelos más efectivos en nuestra evaluación. Estos resultados destacan la robustez del modelo para predecir el **Spending Score**.\n"
   ]
  },
  {
   "cell_type": "markdown",
   "metadata": {},
   "source": [
    "## Conclusión sobre el Modelo de Gradient Boosting\n",
    "\n",
    "En nuestras pruebas del modelo de **Gradient Boosting**, hemos utilizado dos enfoques diferentes para la optimización de hiperparámetros: **GridSearchCV** y **RandomizedSearchCV**. Ambos métodos lograron identificar los mejores parámetros del modelo, resultando en una **precisión del 82%** en el conjunto de prueba. \n",
    "\n",
    "Los mejores parámetros encontrados en ambas configuraciones mostraron similitudes, destacando un **learning rate** de **0.1** y una **max depth** de **3**. Sin embargo, mientras que **GridSearchCV** utilizó un número de estimadores de **50**, **RandomizedSearchCV** optó por **100**, lo que sugiere que un mayor número de estimadores puede ayudar a mejorar la estabilidad del modelo.\n",
    "\n",
    "La consistencia en la precisión entre los dos enfoques refuerza la robustez del modelo de **Gradient Boosting** para predecir el **Spending Score**. Este rendimiento demuestra que el modelo es una herramienta efectiva en la identificación de patrones en los datos, lo que puede resultar valioso para la toma de decisiones en el negocio.\n",
    "\n",
    "En conclusión, **Gradient Boosting** se presenta como un modelo confiable y preciso para la clasificación en nuestro estudio, con la flexibilidad de ser optimizado a través de diferentes métodos de búsqueda de hiperparámetros.\n"
   ]
  }
 ],
 "metadata": {
  "kernelspec": {
   "display_name": "env_lmp",
   "language": "python",
   "name": "python3"
  },
  "language_info": {
   "codemirror_mode": {
    "name": "ipython",
    "version": 3
   },
   "file_extension": ".py",
   "mimetype": "text/x-python",
   "name": "python",
   "nbconvert_exporter": "python",
   "pygments_lexer": "ipython3",
   "version": "3.11.10"
  }
 },
 "nbformat": 4,
 "nbformat_minor": 2
}
