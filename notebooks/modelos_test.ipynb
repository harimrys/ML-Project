{
 "cells": [
  {
   "cell_type": "code",
   "execution_count": 6,
   "metadata": {},
   "outputs": [],
   "source": [
    "import numpy as np\n",
    "import pandas as pd\n",
    "from sklearn.model_selection import train_test_split\n",
    "from sklearn.preprocessing import StandardScaler, MinMaxScaler\n",
    "from sklearn.linear_model import LogisticRegression\n",
    "from sklearn.tree import DecisionTreeClassifier\n",
    "from sklearn.ensemble import RandomForestClassifier\n",
    "from sklearn.svm import SVC\n",
    "from sklearn.neighbors import KNeighborsClassifier\n",
    "from sklearn.metrics import accuracy_score\n",
    "from scipy import stats\n",
    "from sklearn.linear_model import LassoCV\n",
    "from sklearn.ensemble import BaggingClassifier, VotingClassifier\n",
    "from sklearn.ensemble import GradientBoostingClassifier\n",
    "from sklearn.ensemble import AdaBoostClassifier\n",
    "from sklearn.preprocessing import LabelEncoder\n",
    "import warnings\n",
    "warnings.filterwarnings(\"ignore\")"
   ]
  },
  {
   "cell_type": "code",
   "execution_count": 23,
   "metadata": {},
   "outputs": [],
   "source": [
    "df = pd.read_csv(r\"../data/df_dummies.csv\")\n",
    "features = pd.read_csv(r\"../data/features.csv\")\n",
    "target = pd.read_csv(r\"../data/target.csv\")\n",
    "\n",
    "results = {}"
   ]
  },
  {
   "cell_type": "markdown",
   "metadata": {},
   "source": [
    "## Bagging and Pasting"
   ]
  },
  {
   "cell_type": "code",
   "execution_count": 24,
   "metadata": {},
   "outputs": [
    {
     "name": "stdout",
     "output_type": "stream",
     "text": [
      "Accuracy del modelo de Bagging: 0.77\n",
      "Accuracy del modelo de Pasting: 0.76\n"
     ]
    }
   ],
   "source": [
    "\n",
    "\n",
    "# Dividir el conjunto de datos\n",
    "X_train, X_test, y_train, y_test = train_test_split(features, target, test_size=0.2, random_state=42)\n",
    "\n",
    "# Bagging con DecisionTreeClassifier\n",
    "bagging_model = BaggingClassifier(estimator=DecisionTreeClassifier(), \n",
    "                                   n_estimators=100, \n",
    "                                   random_state=42)\n",
    "\n",
    "# Entrenar el modelo\n",
    "bagging_model.fit(X_train, y_train)\n",
    "\n",
    "# Hacer predicciones\n",
    "y_pred_bagging = bagging_model.predict(X_test)\n",
    "\n",
    "# Evaluar el modelo\n",
    "bagging_accuracy = accuracy_score(y_test, y_pred_bagging)\n",
    "print(f'Accuracy del modelo de Bagging: {bagging_accuracy:.2f}')\n",
    "\n",
    "# Pasting con DecisionTreeClassifier\n",
    "pasting_model = BaggingClassifier(estimator=DecisionTreeClassifier(), \n",
    "                                   n_estimators=100, \n",
    "                                   bootstrap=False,  # Sin reemplazo\n",
    "                                   random_state=42)\n",
    "\n",
    "# Entrenar el modelo\n",
    "pasting_model.fit(X_train, y_train)\n",
    "\n",
    "# Hacer predicciones\n",
    "y_pred_pasting = pasting_model.predict(X_test)\n",
    "\n",
    "# Evaluar el modelo\n",
    "pasting_accuracy = accuracy_score(y_test, y_pred_pasting)\n",
    "results['Bagging and Pasting'] = pasting_accuracy\n",
    "print(f'Accuracy del modelo de Pasting: {pasting_accuracy:.2f}')"
   ]
  },
  {
   "cell_type": "markdown",
   "metadata": {},
   "source": [
    "## Random Forest"
   ]
  },
  {
   "cell_type": "code",
   "execution_count": 25,
   "metadata": {},
   "outputs": [
    {
     "name": "stdout",
     "output_type": "stream",
     "text": [
      "Accuracy del modelo de Random Forest: 0.77\n"
     ]
    }
   ],
   "source": [
    "X_train, X_test, y_train, y_test = train_test_split(features, target, test_size=0.2, random_state=42)\n",
    "\n",
    "# Crear el modelo de Random Forest\n",
    "rf_model = RandomForestClassifier(n_estimators=100, random_state=42)\n",
    "\n",
    "# Entrenar el modelo\n",
    "rf_model.fit(X_train, y_train)\n",
    "\n",
    "# Hacer predicciones\n",
    "y_pred_rf = rf_model.predict(X_test)\n",
    "\n",
    "# Evaluar el modelo\n",
    "rf_accuracy = accuracy_score(y_test, y_pred_rf)\n",
    "results['Random Forest'] = rf_accuracy\n",
    "print(f'Accuracy del modelo de Random Forest: {rf_accuracy:.2f}')"
   ]
  },
  {
   "cell_type": "markdown",
   "metadata": {},
   "source": [
    "## Gradient Boosting"
   ]
  },
  {
   "cell_type": "code",
   "execution_count": 26,
   "metadata": {},
   "outputs": [
    {
     "name": "stdout",
     "output_type": "stream",
     "text": [
      "Accuracy del modelo de Gradient Boosting: 0.82\n"
     ]
    }
   ],
   "source": [
    "X_train, X_test, y_train, y_test = train_test_split(features, target, test_size=0.2, random_state=42)\n",
    "\n",
    "# Crear el modelo de Gradient Boosting\n",
    "gb_model = GradientBoostingClassifier(n_estimators=100, random_state=42)\n",
    "\n",
    "# Entrenar el modelo\n",
    "gb_model.fit(X_train, y_train)\n",
    "\n",
    "# Hacer predicciones\n",
    "y_pred_gb = gb_model.predict(X_test)\n",
    "\n",
    "# Evaluar el modelo\n",
    "gb_accuracy = accuracy_score(y_test, y_pred_gb)\n",
    "results['Gradient Boosting'] = gb_accuracy\n",
    "print(f'Accuracy del modelo de Gradient Boosting: {gb_accuracy:.2f}')"
   ]
  },
  {
   "cell_type": "markdown",
   "metadata": {},
   "source": [
    "## Adaptive Boosting"
   ]
  },
  {
   "cell_type": "code",
   "execution_count": 27,
   "metadata": {},
   "outputs": [
    {
     "name": "stdout",
     "output_type": "stream",
     "text": [
      "Accuracy del modelo de AdaBoost: 0.82\n"
     ]
    }
   ],
   "source": [
    "X_train, X_test, y_train, y_test = train_test_split(features, target, test_size=0.2, random_state=42)\n",
    "\n",
    "# Crear el modelo de AdaBoost\n",
    "# Usaremos un árbol de decisión como clasificador base\n",
    "ada_model = AdaBoostClassifier(estimator=DecisionTreeClassifier(max_depth=1), \n",
    "                                n_estimators=100, \n",
    "                                random_state=42)\n",
    "\n",
    "# Entrenar el modelo\n",
    "ada_model.fit(X_train, y_train)\n",
    "\n",
    "# Hacer predicciones\n",
    "y_pred_ada = ada_model.predict(X_test)\n",
    "\n",
    "# Evaluar el modelo\n",
    "ada_accuracy = accuracy_score(y_test, y_pred_ada)\n",
    "results[\"Adaptative Boosting\"] = ada_accuracy\n",
    "print(f'Accuracy del modelo de AdaBoost: {ada_accuracy:.2f}')"
   ]
  },
  {
   "cell_type": "markdown",
   "metadata": {},
   "source": [
    "## Results"
   ]
  },
  {
   "cell_type": "code",
   "execution_count": 28,
   "metadata": {},
   "outputs": [
    {
     "name": "stdout",
     "output_type": "stream",
     "text": [
      "Resultados de los Modelos:\n",
      "                Modelo  Precisión\n",
      "2    Gradient Boosting   0.819940\n",
      "3  Adaptative Boosting   0.815476\n",
      "1        Random Forest   0.774554\n",
      "0  Bagging and Pasting   0.758185\n",
      "\n",
      "El mejor modelo es: Gradient Boosting con una precisión de: 0.82\n"
     ]
    }
   ],
   "source": [
    "results_df = pd.DataFrame(results.items(), columns=['Modelo', 'Precisión'])\n",
    "results_df.sort_values(by='Precisión', ascending=False, inplace=True)\n",
    "\n",
    "# Mostrar los resultados\n",
    "print(\"Resultados de los Modelos:\")\n",
    "print(results_df)\n",
    "\n",
    "# Determinar y mostrar el mejor modelo\n",
    "best_model = results_df.iloc[0]\n",
    "print(f\"\\nEl mejor modelo es: {best_model['Modelo']} con una precisión de: {best_model['Precisión']:.2f}\")"
   ]
  }
 ],
 "metadata": {
  "kernelspec": {
   "display_name": "env_lmp",
   "language": "python",
   "name": "python3"
  },
  "language_info": {
   "codemirror_mode": {
    "name": "ipython",
    "version": 3
   },
   "file_extension": ".py",
   "mimetype": "text/x-python",
   "name": "python",
   "nbconvert_exporter": "python",
   "pygments_lexer": "ipython3",
   "version": "3.11.10"
  }
 },
 "nbformat": 4,
 "nbformat_minor": 2
}
